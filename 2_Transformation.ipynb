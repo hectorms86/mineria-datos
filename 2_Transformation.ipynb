{
 "cells": [
  {
   "cell_type": "markdown",
   "metadata": {},
   "source": [
    "# 2. Transformación"
   ]
  },
  {
   "cell_type": "markdown",
   "metadata": {},
   "source": [
    "## 2.1 Importando paquetes y datasets"
   ]
  },
  {
   "cell_type": "code",
   "execution_count": 38,
   "metadata": {},
   "outputs": [],
   "source": [
    "import pandas as pd\n",
    "import nltk\n",
    "import math\n",
    "import io\n",
    "import re\n",
    "import ast\n",
    "import warnings\n",
    "warnings.filterwarnings('ignore')\n",
    "\n",
    "#Imports de vectorizacion\n",
    "from sklearn.feature_extraction.text import CountVectorizer\n",
    "from sklearn.preprocessing import LabelEncoder"
   ]
  },
  {
   "cell_type": "code",
   "execution_count": null,
   "metadata": {},
   "outputs": [],
   "source": [
    "# with open(\"res/preprocesado_training.csv\", \"r\", encoding='utf-8') as f:\n",
    "#     df_traing = pd.read_csv(f, encoding=\"utf-8\")\n",
    "#     print(\"Dataset loaded\")"
   ]
  },
  {
   "cell_type": "code",
   "execution_count": null,
   "metadata": {},
   "outputs": [],
   "source": [
    "# with open(\"res/preprocesado_testing.csv\", \"r\", encoding='utf-8') as f:\n",
    "#     df_test = pd.read_csv(f, encoding=\"utf-8\")\n",
    "#     print(\"Dataset loaded\")"
   ]
  },
  {
   "cell_type": "code",
   "execution_count": 6,
   "metadata": {},
   "outputs": [
    {
     "name": "stdout",
     "output_type": "stream",
     "text": [
      "Dataset loaded\n"
     ]
    }
   ],
   "source": [
    "with open(\"res/movies_training.csv\", \"r\", encoding='utf-8') as f:\n",
    "    df_train = pd.read_csv(f, encoding=\"utf-8\")\n",
    "    print(\"Dataset loaded\")"
   ]
  },
  {
   "cell_type": "code",
   "execution_count": 7,
   "metadata": {},
   "outputs": [
    {
     "name": "stdout",
     "output_type": "stream",
     "text": [
      "Dataset loaded\n"
     ]
    }
   ],
   "source": [
    "with open(\"res/movies_testing.csv\", \"r\", encoding='utf-8') as f:\n",
    "    df_test = pd.read_csv(f, encoding=\"utf-8\")\n",
    "    print(\"Dataset loaded\")"
   ]
  },
  {
   "cell_type": "markdown",
   "metadata": {},
   "source": [
    "## 2.1 Transformación de lenguaje natural"
   ]
  },
  {
   "cell_type": "markdown",
   "metadata": {},
   "source": [
    "### 2.1.1 Transformación del training"
   ]
  },
  {
   "cell_type": "markdown",
   "metadata": {},
   "source": [
    "Una vez realizado el tokenizado de las columnas compuestas por texto plano, la siguiente labor será la de vectorizar estas columnas, de forma que un algoritmo pueda procesar estos datos. Para ello se cogerán todas aquellas columnas de lenguaje natural y se tomarán todas las palabras aparecidas en ellas."
   ]
  },
  {
   "cell_type": "code",
   "execution_count": 78,
   "metadata": {},
   "outputs": [],
   "source": [
    "def to_plain(row):\n",
    "    text = ''\n",
    "    items = ast.literal_eval(row)\n",
    "    items = set(items)\n",
    "    for item in items:\n",
    "        text += f' {item}'\n",
    "    return text"
   ]
  },
  {
   "cell_type": "code",
   "execution_count": 79,
   "metadata": {},
   "outputs": [
    {
     "data": {
      "text/plain": [
       "0                story toy\n",
       "1                  jumanji\n",
       "2           exhale waiting\n",
       "3     bride father ii part\n",
       "4                     heat\n",
       "Name: title, dtype: object"
      ]
     },
     "execution_count": 79,
     "metadata": {},
     "output_type": "execute_result"
    }
   ],
   "source": [
    "title = df_train['title'].apply(to_plain)\n",
    "title.head()"
   ]
  },
  {
   "cell_type": "code",
   "execution_count": 75,
   "metadata": {},
   "outputs": [
    {
     "data": {
      "text/plain": [
       "0                                       \n",
       "1           excitement unleash dice roll\n",
       "2         let friend never people forget\n",
       "3     he world normal back surprise life\n",
       "4                 angeles crime saga los\n",
       "Name: tagline, dtype: object"
      ]
     },
     "execution_count": 75,
     "metadata": {},
     "output_type": "execute_result"
    }
   ],
   "source": [
    "tagline = df_train['tagline'].apply(to_plain)\n",
    "tagline.head()"
   ]
  },
  {
   "cell_type": "code",
   "execution_count": 60,
   "metadata": {},
   "outputs": [
    {
     "data": {
      "text/plain": [
       "0     brings onto separate andys room duo live plac...\n",
       "1     trapped game world board door room living fre...\n",
       "2     talk breathe bernie vannah friend cheated bre...\n",
       "3     wife change recovered home grandchild expecti...\n",
       "4     topnotch thief game man obsessive vincent abi...\n",
       "Name: overview, dtype: object"
      ]
     },
     "execution_count": 60,
     "metadata": {},
     "output_type": "execute_result"
    }
   ],
   "source": [
    "overview = df_train['overview'].apply(to_plain)\n",
    "overview.head()"
   ]
  },
  {
   "cell_type": "markdown",
   "metadata": {},
   "source": [
    "Una vez pasado a texto plano todas las columnas, se vectorizarán cada una de estas características de los datos para training."
   ]
  },
  {
   "cell_type": "code",
   "execution_count": 88,
   "metadata": {},
   "outputs": [],
   "source": [
    "def best_words(raw):\n",
    "    vec = CountVectorizer().fit(raw)\n",
    "    words = vec.transform(raw)\n",
    "    sum_words = words.sum(axis=0) \n",
    "    words_freq = [(word, sum_words[0, idx]) for word, idx in vec.vocabulary_.items()]\n",
    "    words_freq =sorted(words_freq, key = lambda x: x[1], reverse=True)\n",
    "    \n",
    "    n = int(words_freq[0][1] * 0.3)\n",
    "    best_words = []\n",
    "    for word in words_freq:\n",
    "        if word[1] >= n:\n",
    "            best_words.append(word[0])\n",
    "        else:\n",
    "            break\n",
    "    return best_words"
   ]
  },
  {
   "cell_type": "code",
   "execution_count": 94,
   "metadata": {},
   "outputs": [],
   "source": [
    "overview_words = best_words(overview)\n",
    "title_words= best_words(title)\n",
    "tagline_words = best_words(tagline)"
   ]
  },
  {
   "cell_type": "code",
   "execution_count": 91,
   "metadata": {},
   "outputs": [],
   "source": [
    "def treat_text(df, best_words, column):\n",
    "    for word in best_words:\n",
    "        df[f'{column}_{word}'] = 0\n",
    "        \n",
    "    for i, row in df.iterrows():\n",
    "        try:\n",
    "            items = ast.literal_eval(row[column])\n",
    "            for word in items:\n",
    "                if word in best_words:\n",
    "                    df.iloc[i, df.columns.get_loc(f'{column}_{word}')] = 1\n",
    "        except:\n",
    "            continue"
   ]
  },
  {
   "cell_type": "markdown",
   "metadata": {},
   "source": [
    "Las palabras con más ocurrencias de cada características serán añadidas como columnas."
   ]
  },
  {
   "cell_type": "code",
   "execution_count": 92,
   "metadata": {},
   "outputs": [],
   "source": [
    "treat_text(df_train, overview_words, 'overview')"
   ]
  },
  {
   "cell_type": "code",
   "execution_count": 95,
   "metadata": {},
   "outputs": [],
   "source": [
    "treat_text(df_train, title_words, 'title')"
   ]
  },
  {
   "cell_type": "code",
   "execution_count": 96,
   "metadata": {},
   "outputs": [],
   "source": [
    "treat_text(df_train, tagline_words, 'tagline')"
   ]
  },
  {
   "cell_type": "code",
   "execution_count": 97,
   "metadata": {},
   "outputs": [
    {
     "data": {
      "text/html": [
       "<div>\n",
       "<style scoped>\n",
       "    .dataframe tbody tr th:only-of-type {\n",
       "        vertical-align: middle;\n",
       "    }\n",
       "\n",
       "    .dataframe tbody tr th {\n",
       "        vertical-align: top;\n",
       "    }\n",
       "\n",
       "    .dataframe thead th {\n",
       "        text-align: right;\n",
       "    }\n",
       "</style>\n",
       "<table border=\"1\" class=\"dataframe\">\n",
       "  <thead>\n",
       "    <tr style=\"text-align: right;\">\n",
       "      <th></th>\n",
       "      <th>belongs_to_collection</th>\n",
       "      <th>budget</th>\n",
       "      <th>original_language</th>\n",
       "      <th>overview</th>\n",
       "      <th>production_companies</th>\n",
       "      <th>revenue</th>\n",
       "      <th>runtime</th>\n",
       "      <th>tagline</th>\n",
       "      <th>title</th>\n",
       "      <th>vote_average</th>\n",
       "      <th>...</th>\n",
       "      <th>tagline_life</th>\n",
       "      <th>tagline_story</th>\n",
       "      <th>tagline_world</th>\n",
       "      <th>tagline_man</th>\n",
       "      <th>tagline_never</th>\n",
       "      <th>tagline_time</th>\n",
       "      <th>tagline_get</th>\n",
       "      <th>tagline_back</th>\n",
       "      <th>tagline_come</th>\n",
       "      <th>tagline_he</th>\n",
       "    </tr>\n",
       "  </thead>\n",
       "  <tbody>\n",
       "    <tr>\n",
       "      <th>0</th>\n",
       "      <td>-1</td>\n",
       "      <td>30000000</td>\n",
       "      <td>en</td>\n",
       "      <td>['led', 'woody', 'andys', 'toy', 'live', 'happ...</td>\n",
       "      <td>52</td>\n",
       "      <td>373554033.0</td>\n",
       "      <td>81.0</td>\n",
       "      <td>[]</td>\n",
       "      <td>['toy', 'story']</td>\n",
       "      <td>7.7</td>\n",
       "      <td>...</td>\n",
       "      <td>0</td>\n",
       "      <td>0</td>\n",
       "      <td>0</td>\n",
       "      <td>0</td>\n",
       "      <td>0</td>\n",
       "      <td>0</td>\n",
       "      <td>0</td>\n",
       "      <td>0</td>\n",
       "      <td>0</td>\n",
       "      <td>0</td>\n",
       "    </tr>\n",
       "    <tr>\n",
       "      <th>1</th>\n",
       "      <td>-1</td>\n",
       "      <td>65000000</td>\n",
       "      <td>en</td>\n",
       "      <td>['sibling', 'judy', 'peter', 'discover', 'ench...</td>\n",
       "      <td>196</td>\n",
       "      <td>262797249.0</td>\n",
       "      <td>104.0</td>\n",
       "      <td>['roll', 'dice', 'unleash', 'excitement']</td>\n",
       "      <td>['jumanji']</td>\n",
       "      <td>6.9</td>\n",
       "      <td>...</td>\n",
       "      <td>0</td>\n",
       "      <td>0</td>\n",
       "      <td>0</td>\n",
       "      <td>0</td>\n",
       "      <td>0</td>\n",
       "      <td>0</td>\n",
       "      <td>0</td>\n",
       "      <td>0</td>\n",
       "      <td>0</td>\n",
       "      <td>0</td>\n",
       "    </tr>\n",
       "    <tr>\n",
       "      <th>2</th>\n",
       "      <td>-1</td>\n",
       "      <td>16000000</td>\n",
       "      <td>en</td>\n",
       "      <td>['cheated', 'mistreated', 'stepped', 'woman', ...</td>\n",
       "      <td>812</td>\n",
       "      <td>81452156.0</td>\n",
       "      <td>127.0</td>\n",
       "      <td>['friend', 'people', 'let', 'never', 'let', 'f...</td>\n",
       "      <td>['waiting', 'exhale']</td>\n",
       "      <td>6.1</td>\n",
       "      <td>...</td>\n",
       "      <td>0</td>\n",
       "      <td>0</td>\n",
       "      <td>0</td>\n",
       "      <td>0</td>\n",
       "      <td>1</td>\n",
       "      <td>0</td>\n",
       "      <td>0</td>\n",
       "      <td>0</td>\n",
       "      <td>0</td>\n",
       "      <td>0</td>\n",
       "    </tr>\n",
       "    <tr>\n",
       "      <th>3</th>\n",
       "      <td>-1</td>\n",
       "      <td>0</td>\n",
       "      <td>en</td>\n",
       "      <td>['george', 'bank', 'recovered', 'daughter', 'w...</td>\n",
       "      <td>224</td>\n",
       "      <td>76578911.0</td>\n",
       "      <td>106.0</td>\n",
       "      <td>['world', 'back', 'normal', 'he', 'surprise', ...</td>\n",
       "      <td>['father', 'bride', 'part', 'ii']</td>\n",
       "      <td>5.7</td>\n",
       "      <td>...</td>\n",
       "      <td>1</td>\n",
       "      <td>0</td>\n",
       "      <td>1</td>\n",
       "      <td>0</td>\n",
       "      <td>0</td>\n",
       "      <td>0</td>\n",
       "      <td>0</td>\n",
       "      <td>1</td>\n",
       "      <td>0</td>\n",
       "      <td>1</td>\n",
       "    </tr>\n",
       "    <tr>\n",
       "      <th>4</th>\n",
       "      <td>-1</td>\n",
       "      <td>60000000</td>\n",
       "      <td>en</td>\n",
       "      <td>['obsessive', 'master', 'thief', 'neil', 'mcca...</td>\n",
       "      <td>1184</td>\n",
       "      <td>187436818.0</td>\n",
       "      <td>170.0</td>\n",
       "      <td>['los', 'angeles', 'crime', 'saga']</td>\n",
       "      <td>['heat']</td>\n",
       "      <td>7.7</td>\n",
       "      <td>...</td>\n",
       "      <td>0</td>\n",
       "      <td>0</td>\n",
       "      <td>0</td>\n",
       "      <td>0</td>\n",
       "      <td>0</td>\n",
       "      <td>0</td>\n",
       "      <td>0</td>\n",
       "      <td>0</td>\n",
       "      <td>0</td>\n",
       "      <td>0</td>\n",
       "    </tr>\n",
       "  </tbody>\n",
       "</table>\n",
       "<p>5 rows × 108 columns</p>\n",
       "</div>"
      ],
      "text/plain": [
       "   belongs_to_collection    budget original_language  \\\n",
       "0                     -1  30000000                en   \n",
       "1                     -1  65000000                en   \n",
       "2                     -1  16000000                en   \n",
       "3                     -1         0                en   \n",
       "4                     -1  60000000                en   \n",
       "\n",
       "                                            overview  production_companies  \\\n",
       "0  ['led', 'woody', 'andys', 'toy', 'live', 'happ...                    52   \n",
       "1  ['sibling', 'judy', 'peter', 'discover', 'ench...                   196   \n",
       "2  ['cheated', 'mistreated', 'stepped', 'woman', ...                   812   \n",
       "3  ['george', 'bank', 'recovered', 'daughter', 'w...                   224   \n",
       "4  ['obsessive', 'master', 'thief', 'neil', 'mcca...                  1184   \n",
       "\n",
       "       revenue  runtime                                            tagline  \\\n",
       "0  373554033.0     81.0                                                 []   \n",
       "1  262797249.0    104.0          ['roll', 'dice', 'unleash', 'excitement']   \n",
       "2   81452156.0    127.0  ['friend', 'people', 'let', 'never', 'let', 'f...   \n",
       "3   76578911.0    106.0  ['world', 'back', 'normal', 'he', 'surprise', ...   \n",
       "4  187436818.0    170.0                ['los', 'angeles', 'crime', 'saga']   \n",
       "\n",
       "                               title  vote_average  ...  tagline_life  \\\n",
       "0                   ['toy', 'story']           7.7  ...             0   \n",
       "1                        ['jumanji']           6.9  ...             0   \n",
       "2              ['waiting', 'exhale']           6.1  ...             0   \n",
       "3  ['father', 'bride', 'part', 'ii']           5.7  ...             1   \n",
       "4                           ['heat']           7.7  ...             0   \n",
       "\n",
       "   tagline_story tagline_world  tagline_man  tagline_never  tagline_time  \\\n",
       "0              0             0            0              0             0   \n",
       "1              0             0            0              0             0   \n",
       "2              0             0            0              1             0   \n",
       "3              0             1            0              0             0   \n",
       "4              0             0            0              0             0   \n",
       "\n",
       "   tagline_get  tagline_back  tagline_come  tagline_he  \n",
       "0            0             0             0           0  \n",
       "1            0             0             0           0  \n",
       "2            0             0             0           0  \n",
       "3            0             1             0           1  \n",
       "4            0             0             0           0  \n",
       "\n",
       "[5 rows x 108 columns]"
      ]
     },
     "execution_count": 97,
     "metadata": {},
     "output_type": "execute_result"
    }
   ],
   "source": [
    "df_train.head()"
   ]
  },
  {
   "cell_type": "code",
   "execution_count": 100,
   "metadata": {},
   "outputs": [],
   "source": [
    "df_train.drop(['title', 'tagline', 'overview'], axis=1, inplace=True)"
   ]
  },
  {
   "cell_type": "markdown",
   "metadata": {},
   "source": [
    "### 2.1.2 Transformación del testing"
   ]
  },
  {
   "cell_type": "markdown",
   "metadata": {},
   "source": [
    "Para el dataset para testing, también se añadirán estas mismas columnas con One Hot Encoding, si aparacen en cada una de las columnas ya mencionadas anteriormente."
   ]
  },
  {
   "cell_type": "code",
   "execution_count": null,
   "metadata": {},
   "outputs": [],
   "source": [
    "treat_text(df_test, overview_words, 'overview')"
   ]
  },
  {
   "cell_type": "code",
   "execution_count": null,
   "metadata": {},
   "outputs": [],
   "source": [
    "treat_text(df_test, title_words, 'title')"
   ]
  },
  {
   "cell_type": "code",
   "execution_count": null,
   "metadata": {},
   "outputs": [],
   "source": [
    "treat_text(df_test, tagline_words, 'tagline')"
   ]
  },
  {
   "cell_type": "code",
   "execution_count": 101,
   "metadata": {},
   "outputs": [],
   "source": [
    "df_test.drop(['title', 'tagline', 'overview'], axis=1, inplace=True)"
   ]
  },
  {
   "cell_type": "markdown",
   "metadata": {},
   "source": [
    "## 2.2 Transformación de columnas categóricas"
   ]
  },
  {
   "cell_type": "markdown",
   "metadata": {},
   "source": [
    "### 2.2.1 Release day of the week"
   ]
  },
  {
   "cell_type": "markdown",
   "metadata": {},
   "source": [
    "Esta columna que indica el día de la semana, será procesada mediante Label Encoding, tanto del training y del testing."
   ]
  },
  {
   "cell_type": "code",
   "execution_count": null,
   "metadata": {},
   "outputs": [],
   "source": [
    "lb_enc = LabelEncoder()\n",
    "\n",
    "df_train['release_day'] = lb_enc.fit_transform(df_train['release_day'])\n",
    "df_test['release_day'] = lb_enc.fit_transform(df_test['release_day'])"
   ]
  },
  {
   "cell_type": "markdown",
   "metadata": {},
   "source": [
    "### 2.2.2 Original language"
   ]
  },
  {
   "cell_type": "markdown",
   "metadata": {},
   "source": [
    "Esta columna también será procesada mediante Label Encoding."
   ]
  },
  {
   "cell_type": "code",
   "execution_count": null,
   "metadata": {},
   "outputs": [],
   "source": [
    "df_train['original_language'] = lb_enc.fit_transform(df_train['original_language'])\n",
    "df_test['original_language'] = lb_enc.fit_transform(df_test['original_language'])"
   ]
  },
  {
   "cell_type": "markdown",
   "metadata": {},
   "source": [
    "## 2.3 Actualización de los datasets"
   ]
  },
  {
   "cell_type": "code",
   "execution_count": null,
   "metadata": {},
   "outputs": [],
   "source": [
    "df_train.to_csv(\"res/transformed_training.csv\", index = False)"
   ]
  },
  {
   "cell_type": "code",
   "execution_count": null,
   "metadata": {},
   "outputs": [],
   "source": [
    "df_test.to_csv(\"res/transformed_testing.csv\", index = False)"
   ]
  }
 ],
 "metadata": {
  "kernelspec": {
   "display_name": "Python 3",
   "language": "python",
   "name": "python3"
  },
  "language_info": {
   "codemirror_mode": {
    "name": "ipython",
    "version": 3
   },
   "file_extension": ".py",
   "mimetype": "text/x-python",
   "name": "python",
   "nbconvert_exporter": "python",
   "pygments_lexer": "ipython3",
   "version": "3.9.0"
  }
 },
 "nbformat": 4,
 "nbformat_minor": 4
}
