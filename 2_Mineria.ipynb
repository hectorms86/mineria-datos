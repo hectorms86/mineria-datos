{
 "cells": [
  {
   "cell_type": "code",
   "execution_count": 1,
   "metadata": {},
   "outputs": [],
   "source": [
    "from sklearn.linear_model import LinearRegression\n",
    "from sklearn.metrics import mean_absolute_error\n",
    "from sklearn.model_selection import train_test_split\n",
    "import pandas as pd\n",
    "import numpy as np"
   ]
  },
  {
   "cell_type": "code",
   "execution_count": 2,
   "metadata": {},
   "outputs": [
    {
     "name": "stdout",
     "output_type": "stream",
     "text": [
      "belongs_to_collection     0.138662\n",
      "budget                    0.740247\n",
      "production_companies      0.224936\n",
      "revenue                   1.000000\n",
      "runtime                   0.209160\n",
      "vote_average              0.145693\n",
      "vote_count                0.785143\n",
      "release_month             0.044632\n",
      "spoken_lang_en           -0.032202\n",
      "spoken_lang_de            0.014359\n",
      "spoken_lang_es           -0.013658\n",
      "spoken_lang_ru            0.013049\n",
      "spoken_lang_other         0.036583\n",
      "genre_Drama               0.011309\n",
      "genre_other              -0.018441\n",
      "production_US            -0.023410\n",
      "production_GB            -0.018400\n",
      "production_other          0.019238\n",
      "preprocessed_colection    0.138662\n",
      "Name: revenue, dtype: float64\n"
     ]
    }
   ],
   "source": [
    "with open(\"movies_dataset/preprocesado_training.csv\", \"r\") as f:\n",
    "    df = pd.read_csv(f)\n",
    "\n",
    "#Temporary\n",
    "df = df.drop([\"original_language\", \"overview\", \"tagline\", \"title\", \"release_day\"], axis=1)\n",
    "\n",
    "\n",
    "train, test = train_test_split(df, test_size=0.2)\n",
    "\n",
    "\n",
    "mtx_corr = train.corr()\n",
    "revenue_correlations = mtx_corr[\"revenue\"][abs(mtx_corr[\"revenue\"]) > 0.01]\n",
    "\n",
    "print(revenue_correlations)\n",
    "\n",
    "selected_columns = list(revenue_correlations.index)\n",
    "selected_columns.remove(\"revenue\")"
   ]
  },
  {
   "cell_type": "code",
   "execution_count": 3,
   "metadata": {},
   "outputs": [],
   "source": [
    "features_train = train[selected_columns]\n",
    "goal_train = train[[\"revenue\"]]\n",
    "\n",
    "\n",
    "features_test = test[selected_columns]\n",
    "goal_test = test[[\"revenue\"]]"
   ]
  },
  {
   "cell_type": "code",
   "execution_count": 4,
   "metadata": {},
   "outputs": [],
   "source": [
    "#from sklearn.ensemble import RandomForestRegressor\n",
    "#model = RandomForestRegressor(n_estimators=1000, warm_start=True)\n",
    "#model.fit(features, goal)"
   ]
  },
  {
   "cell_type": "code",
   "execution_count": 12,
   "metadata": {},
   "outputs": [
    {
     "data": {
      "text/plain": [
       "XGBRegressor(base_score=0.5, booster='gbtree', colsample_bylevel=1,\n",
       "             colsample_bynode=1, colsample_bytree=0.75, gamma=0, gpu_id=-1,\n",
       "             importance_type='gain', interaction_constraints='',\n",
       "             learning_rate=0.005, max_delta_step=0, max_depth=10,\n",
       "             min_child_weight=1, missing=nan, monotone_constraints='()',\n",
       "             n_estimators=10000, n_jobs=3, nthread=3, num_parallel_tree=1,\n",
       "             random_state=0, reg_alpha=0, reg_lambda=1, scale_pos_weight=1,\n",
       "             subsample=0.75, tree_method='exact', validate_parameters=1,\n",
       "             verbosity=None)"
      ]
     },
     "execution_count": 12,
     "metadata": {},
     "output_type": "execute_result"
    }
   ],
   "source": [
    "import xgboost as xgb\n",
    "model = xgb.XGBRegressor(n_estimators = 10000, learning_rate = 0.005, max_depth = 10, subsample = 0.75,\n",
    "                            colsample_bytree = 0.75, nthread = 3)\n",
    "model.fit(features_train, goal_train)"
   ]
  },
  {
   "cell_type": "code",
   "execution_count": 13,
   "metadata": {
    "scrolled": true
   },
   "outputs": [
    {
     "name": "stdout",
     "output_type": "stream",
     "text": [
      "Training error: 125871.25523200752\n",
      "Testing error: 33599876.817406066\n"
     ]
    }
   ],
   "source": [
    "predictions_train = model.predict(features_train)\n",
    "predictions_test = model.predict(features_test)\n",
    "\n",
    "MAE_train = mean_absolute_error(goal_train, predictions_train)\n",
    "MAE_test = mean_absolute_error(goal_test, predictions_test)\n",
    "\n",
    "print(\"Training error:\", MAE_train)\n",
    "print(\"Testing error:\", MAE_test)"
   ]
  },
  {
   "cell_type": "code",
   "execution_count": null,
   "metadata": {},
   "outputs": [],
   "source": [
    "np.linspace(0.001, 0.01, 10)"
   ]
  },
  {
   "cell_type": "code",
   "execution_count": null,
   "metadata": {},
   "outputs": [],
   "source": [
    "#list(predictions)"
   ]
  },
  {
   "cell_type": "code",
   "execution_count": null,
   "metadata": {},
   "outputs": [],
   "source": [
    "len(np.linspace(0.001, 0.01, 10)) * len(range(1, 17))"
   ]
  },
  {
   "cell_type": "code",
   "execution_count": null,
   "metadata": {},
   "outputs": [],
   "source": [
    "for learning_rate in np.linspace(0.001, 0.01, 10):\n",
    "    for max_depth in range(1, 17):\n",
    "        for subsample in np.linspace(0.001, 0.01, 10):\n",
    "            for colsample_bytree in \n",
    "        "
   ]
  }
 ],
 "metadata": {
  "kernelspec": {
   "display_name": "Python 3",
   "language": "python",
   "name": "python3"
  },
  "language_info": {
   "codemirror_mode": {
    "name": "ipython",
    "version": 3
   },
   "file_extension": ".py",
   "mimetype": "text/x-python",
   "name": "python",
   "nbconvert_exporter": "python",
   "pygments_lexer": "ipython3",
   "version": "3.8.5"
  }
 },
 "nbformat": 4,
 "nbformat_minor": 4
}
