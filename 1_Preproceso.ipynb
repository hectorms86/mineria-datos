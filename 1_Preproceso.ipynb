{
 "cells": [
  {
   "cell_type": "markdown",
   "metadata": {
    "id": "Mn1SfS_F7neP"
   },
   "source": [
    "# 1. Preproceso"
   ]
  },
  {
   "cell_type": "markdown",
   "metadata": {
    "id": "bpBl13Yw7ta8"
   },
   "source": [
    "## 1.1 Imports y carga de dataset"
   ]
  },
  {
   "cell_type": "markdown",
   "metadata": {
    "id": "QWnAOXwg9rZ3"
   },
   "source": [
    "Al comienzo de este notebook, se ejecutará todos los imports usados en él, y el dataset utilizado para llevar a cabo el modelo."
   ]
  },
  {
   "cell_type": "code",
   "execution_count": 1,
   "metadata": {
    "id": "b2YbMPyG7ig_",
    "outputId": "47e9d121-6ae0-453c-e6e2-efc3532b7e93"
   },
   "outputs": [
    {
     "name": "stderr",
     "output_type": "stream",
     "text": [
      "[nltk_data] Downloading package stopwords to /home/hector/nltk_data...\n",
      "[nltk_data]   Package stopwords is already up-to-date!\n",
      "[nltk_data] Downloading package punkt to /home/hector/nltk_data...\n",
      "[nltk_data]   Package punkt is already up-to-date!\n",
      "[nltk_data] Downloading package wordnet to /home/hector/nltk_data...\n",
      "[nltk_data]   Package wordnet is already up-to-date!\n"
     ]
    },
    {
     "name": "stdout",
     "output_type": "stream",
     "text": [
      "Dataset loaded\n"
     ]
    }
   ],
   "source": [
    "#Imports y carga del dataset\n",
    "\n",
    "from nltk.corpus import stopwords\n",
    "from nltk.tokenize import word_tokenize\n",
    "from nltk.stem import WordNetLemmatizer\n",
    "import pandas as pd\n",
    "import nltk\n",
    "import math\n",
    "import ast\n",
    "import io\n",
    "import re\n",
    "import warnings\n",
    "warnings.filterwarnings('ignore')\n",
    "import numpy as np\n",
    "\n",
    "nltk.download(\"stopwords\")\n",
    "nltk.download(\"punkt\")\n",
    "nltk.download(\"wordnet\")\n",
    "\n",
    "#pd.set_option(\"display.max_rows\", None)\n",
    "\n",
    "with open(\"movies_dataset/movies_metadata.csv\", \"r\", encoding='utf-8') as f:\n",
    "    df_raw = pd.read_csv(f, encoding=\"utf-8\")\n",
    "    print(\"Dataset loaded\")"
   ]
  },
  {
   "cell_type": "markdown",
   "metadata": {
    "id": "zPWxYp1W_JKv"
   },
   "source": [
    "## 1.2 Eliminación de columnas no usadas"
   ]
  },
  {
   "cell_type": "markdown",
   "metadata": {
    "id": "Is7Lr6DG_bJt"
   },
   "source": [
    "Vamos a procesar todas las columnas del dataset y construir un dataframe nuevo.\n",
    "\n",
    "Las columnas que hemos considerado innecesarias para incluir son:\n",
    "\n",
    "* ``homepage``\n",
    "* ``imdb_id``\n",
    "* ``original_title``\n",
    "* ``poster_path``\n",
    "* ``status``\n",
    "* ``video``\n",
    "* ``id``\n",
    "* ``popularity``\n",
    "\n",
    "The column ``id`` won't be removed, in order to know and to identify what movie belongs to each row in the preprocessed data."
   ]
  },
  {
   "cell_type": "code",
   "execution_count": 2,
   "metadata": {
    "id": "2ev0ktFP7ihH",
    "outputId": "898ade82-6333-4f20-fffb-5c75bf8aee10"
   },
   "outputs": [
    {
     "name": "stdout",
     "output_type": "stream",
     "text": [
      "Columnas excluidas\n"
     ]
    }
   ],
   "source": [
    "exclude = [\"homepage\", \"imdb_id\", \"original_title\", \"poster_path\", \"status\", \"video\", \"popularity\"] \n",
    "df = df_raw.loc[:, df_raw.columns.difference(exclude)]\n",
    "print(\"Columnas excluidas\")"
   ]
  },
  {
   "cell_type": "markdown",
   "metadata": {
    "id": "N_BemrkxGHkw"
   },
   "source": [
    "Una vez eliminada estas columnas, se comprueba que columnas son las que se van a procesar y cuales tienen algún valor nulo."
   ]
  },
  {
   "cell_type": "code",
   "execution_count": 3,
   "metadata": {
    "id": "I-ch1sNL7ihI",
    "outputId": "1cd8ee5f-306c-4aca-a151-42ca6aa79b0c"
   },
   "outputs": [
    {
     "name": "stdout",
     "output_type": "stream",
     "text": [
      "adult                    False\n",
      "belongs_to_collection     True\n",
      "budget                   False\n",
      "genres                   False\n",
      "id                       False\n",
      "original_language         True\n",
      "overview                  True\n",
      "production_companies      True\n",
      "production_countries      True\n",
      "release_date              True\n",
      "revenue                   True\n",
      "runtime                   True\n",
      "spoken_languages          True\n",
      "tagline                   True\n",
      "title                     True\n",
      "vote_average              True\n",
      "vote_count                True\n",
      "dtype: bool\n",
      "\n",
      "Filas totales: 45466\n",
      "Filas con algún valor nulo: 42894\n"
     ]
    }
   ],
   "source": [
    "#Comprobación de valores nulos\n",
    "\n",
    "print(pd.isnull(df).any())\n",
    "print()\n",
    "print(\"Filas totales:\", len(df))\n",
    "print(\"Filas con algún valor nulo:\", len([x for x in df.isnull().any(axis=1) if x]))"
   ]
  },
  {
   "cell_type": "markdown",
   "metadata": {
    "id": "6pJnLJBLGV3Z"
   },
   "source": [
    "## 1.3 Procesamiento de columnas"
   ]
  },
  {
   "cell_type": "markdown",
   "metadata": {
    "id": "dGKYnsI1Gcrv"
   },
   "source": [
    "### 1.3.1 Adult"
   ]
  },
  {
   "cell_type": "markdown",
   "metadata": {
    "id": "8sBHiQamGhuH"
   },
   "source": [
    "Aqui observamos que hay valores no booleanos que debemos eliminar, y además observamos que las películas con valor True son muy escasas en comparación con las que tienen valor False, por lo que se procederá a eliminar las filas anómalas y quitar la columna ``adult``."
   ]
  },
  {
   "cell_type": "code",
   "execution_count": 4,
   "metadata": {
    "id": "LfjW3j4q7ihJ",
    "outputId": "48572e2d-4711-4748-ab28-ec1ed2d92c39"
   },
   "outputs": [
    {
     "name": "stdout",
     "output_type": "stream",
     "text": [
      "False                                                                                                                             45454\n",
      "True                                                                                                                                  9\n",
      " Avalanche Sharks tells the story of a bikini contest that turns into a horrifying affair when it is hit by a shark avalanche.        1\n",
      " - Written by Ørnås                                                                                                                   1\n",
      " Rune Balot goes to a casino connected to the October corporation to try to wrap up her case once and for all.                        1\n",
      "Name: adult, dtype: int64\n",
      "\n",
      "False    45454\n",
      "Name: adult, dtype: int64\n"
     ]
    }
   ],
   "source": [
    "print(df[\"adult\"].value_counts())\n",
    "print()\n",
    "\n",
    "drop_list = []\n",
    "for i in range(len(df)):\n",
    "    if df[\"adult\"][i] != \"False\":\n",
    "        drop_list.append(i)\n",
    "\n",
    "df.drop(index=drop_list, inplace=True)\n",
    "\n",
    "print(df[\"adult\"].value_counts())\n",
    "\n",
    "df.drop([\"adult\"], axis=1, inplace=True)\n",
    "\n",
    "#No añadimos la columna al nuevo dataframe"
   ]
  },
  {
   "cell_type": "markdown",
   "metadata": {
    "id": "fQOhEFw2Tqff"
   },
   "source": [
    "### 1.3.2 Title"
   ]
  },
  {
   "cell_type": "markdown",
   "metadata": {
    "id": "9cHDwgWKdINs"
   },
   "source": [
    "Antes de procesar esta columna, se pasará a definir una serie de funciones que nos servirán para procesar aquellas carácterísticas que están formadas por lenguaje natural."
   ]
  },
  {
   "cell_type": "code",
   "execution_count": 5,
   "metadata": {
    "id": "tWe3Wo7-7ihK"
   },
   "outputs": [],
   "source": [
    "# Definicion de funciones para el procesamiento de lenguaje natural\n",
    "\n",
    "replaces = [(\"i'm\", \"i am\"), (\"you're\", \"you are\"), (\"we're\", \"we are\"), (\"they're\", \"they are\"),\n",
    "            (\"that's\", \"that is\"), (\"there's\", \"there is\"), (\"who's\", \"who is\"), (\"what's\", \"what is\"),\n",
    "            \n",
    "            (\"isn't\", \"is not\"), (\"aren't\", \"are not\"), (\"can't\", \"cannot\"), (\"haven't\", \"have not\"),\n",
    "            (\"won't\", \"will not\"), (\"doesn't\", \"does not\"), (\"don't\", \"do not\"), (\"didn't\", \"did not\"),\n",
    "            (\"couldn't\", \"could not\"), (\"shouldn't\", \"should not\"), (\"wasn't\", \"was not\"), (\"weren't\", \"were not\"),\n",
    "            (\"hasn't\", \"has not\"), (\"hadn't\", \"had not\"),\n",
    "            \n",
    "            (\"we'd\", \"we would\"), (\"he'd\", \"he would\"), (\"you'd\", \"you would\"), (\"they'd\", \"they would\"), \n",
    "            (\"who'd\", \"who would\"), (\"wouldn't\", \"would not\"),\n",
    "            \n",
    "            (\"i'll\", \"i will\"), (\"you'll\", \"you will\"), (\"he'll\", \"he will\"), (\"she'll\", \"she will\"),\n",
    "            (\"it'll\", \"it will\"), (\"we'll\", \"we will\"), (\"they'll\", \"they will\"),\n",
    "            \n",
    "            (\"i've\", \"i have\"), (\"you've\", \"you have\"), (\"we've\", \"we have\"), (\"they've\", \"they've\"),\n",
    "            (\"&\", \" and \")\n",
    "           ]\n",
    "\n",
    "def sub_contractions(text):\n",
    "    new_text = text\n",
    "    for r in replaces:\n",
    "        new_text = re.sub(f\"{r[0]}\", f\"{r[1]}\", new_text)\n",
    "    return new_text\n",
    "\n",
    "lemmatizer = WordNetLemmatizer()\n",
    "def preprocess_text(text):\n",
    "    if type(text) is float:  #Comprobando valores nulos, expresados como un float NaN\n",
    "        ret_text = []\n",
    "    else:\n",
    "        new_text = text.lower()\n",
    "        new_text = sub_contractions(new_text)\n",
    "        new_text = re.sub(\"[^A-Za-zÀ-ÖØ-öø-ÿ0-9 ]\", \"\", new_text)\n",
    "        \n",
    "        tok_text = word_tokenize(new_text)\n",
    "        stop_words = list(stopwords.words(\"english\"))\n",
    "        tok_text = [word for word in tok_text if word not in stop_words]\n",
    "        tok_text = [lemmatizer.lemmatize(word) for word in tok_text]\n",
    "        ret_text = tok_text\n",
    "        \n",
    "        \"\"\" Processing feedback\n",
    "        joint_text = \" \".join(tok_text)\n",
    "        print(new_text)\n",
    "        print(joint_text)\n",
    "        print() #\"\"\"\n",
    "        \n",
    "    return ret_text"
   ]
  },
  {
   "cell_type": "code",
   "execution_count": 6,
   "metadata": {
    "id": "lmr2qqpF7ihL",
    "outputId": "1bb81d8d-f75d-4632-ec48-f2fcf16a6529"
   },
   "outputs": [
    {
     "data": {
      "text/plain": [
       "0                 [toy, story]\n",
       "1                    [jumanji]\n",
       "2         [grumpier, old, men]\n",
       "3            [waiting, exhale]\n",
       "4    [father, bride, part, ii]\n",
       "Name: title, dtype: object"
      ]
     },
     "execution_count": 6,
     "metadata": {},
     "output_type": "execute_result"
    }
   ],
   "source": [
    "'''TITLE'''\n",
    "\n",
    "df[\"title\"] = df[\"title\"].apply(preprocess_text)\n",
    "df[\"title\"].head()"
   ]
  },
  {
   "cell_type": "markdown",
   "metadata": {
    "id": "9xq3ZxpFeiQH"
   },
   "source": [
    "### 1.3.3 Tagline"
   ]
  },
  {
   "cell_type": "markdown",
   "metadata": {
    "id": "zmQjjC3Meram"
   },
   "source": [
    "Para la columna ``tagline``, la cual es de tipo texto, también se deberá llevar a cabo procesamiento de lenguaje natural.\n",
    "\n"
   ]
  },
  {
   "cell_type": "code",
   "execution_count": 7,
   "metadata": {
    "id": "LnOHEc4j7ihL",
    "outputId": "e472be8b-06f8-439e-b29a-f42fb2d35faa"
   },
   "outputs": [
    {
     "data": {
      "text/plain": [
       "0                                                   []\n",
       "1                    [roll, dice, unleash, excitement]\n",
       "2    [still, yelling, still, fighting, still, ready...\n",
       "3            [friend, people, let, never, let, forget]\n",
       "4            [world, back, normal, he, surprise, life]\n",
       "Name: tagline, dtype: object"
      ]
     },
     "execution_count": 7,
     "metadata": {},
     "output_type": "execute_result"
    }
   ],
   "source": [
    "'''TAGLINE'''\n",
    "\n",
    "df[\"tagline\"] = df[\"tagline\"].apply(preprocess_text)\n",
    "df[\"tagline\"].head()"
   ]
  },
  {
   "cell_type": "markdown",
   "metadata": {
    "id": "cnjEXyq0hByT"
   },
   "source": [
    "### 1.3.4 Overview"
   ]
  },
  {
   "cell_type": "markdown",
   "metadata": {
    "id": "8aMtZofLhRMT"
   },
   "source": [
    "También con la columna ``overview``, se debe llevar a cabo de la misma forma."
   ]
  },
  {
   "cell_type": "code",
   "execution_count": 8,
   "metadata": {
    "id": "xkIPSqlP7ihM",
    "outputId": "1a1c42f7-1f82-4d5d-ee75-09758e16fc62"
   },
   "outputs": [
    {
     "data": {
      "text/plain": [
       "0    [led, woody, andys, toy, live, happily, room, ...\n",
       "1    [sibling, judy, peter, discover, enchanted, bo...\n",
       "2    [family, wedding, reignites, ancient, feud, ne...\n",
       "3    [cheated, mistreated, stepped, woman, holding,...\n",
       "4    [george, bank, recovered, daughter, wedding, r...\n",
       "Name: overview, dtype: object"
      ]
     },
     "execution_count": 8,
     "metadata": {},
     "output_type": "execute_result"
    }
   ],
   "source": [
    "'''OVERVIEW'''\n",
    "\n",
    "df[\"overview\"] = df[\"overview\"].apply(preprocess_text)\n",
    "df[\"overview\"].head()"
   ]
  },
  {
   "cell_type": "markdown",
   "metadata": {
    "id": "z_8kPNoaikKy"
   },
   "source": [
    "### 1.3.5 Vote count"
   ]
  },
  {
   "cell_type": "markdown",
   "metadata": {
    "id": "sG7eXvHpjTqi"
   },
   "source": [
    "Para liminamos las filas con valores nulos. Si el numero de votos es menor a 1 no es útil, puesto que una pelicula sin votos no sirve para deducir en función de la media de votos de una pelicula."
   ]
  },
  {
   "cell_type": "code",
   "execution_count": 9,
   "metadata": {
    "id": "mKSRqnO_7ihM",
    "outputId": "d4445957-2fb3-479d-a117-ef9cce93f3c4"
   },
   "outputs": [
    {
     "data": {
      "text/plain": [
       "0    5415.0\n",
       "1    2413.0\n",
       "2      92.0\n",
       "3      34.0\n",
       "4     173.0\n",
       "Name: vote_count, dtype: float64"
      ]
     },
     "execution_count": 9,
     "metadata": {},
     "output_type": "execute_result"
    }
   ],
   "source": [
    "'''VOTE_COUNT'''\n",
    "\n",
    "df[\"vote_count\"] = df.drop(df[df.vote_count.isna()].index, inplace=False)[\"vote_count\"].astype(\"int32\")\n",
    "df = df[df.vote_count >= 1]\n",
    "df[\"vote_count\"].head()"
   ]
  },
  {
   "cell_type": "markdown",
   "metadata": {
    "id": "UTTco25_kYzD"
   },
   "source": [
    "### 1.3.6 Vote average"
   ]
  },
  {
   "cell_type": "markdown",
   "metadata": {
    "id": "8jx8zPN-mErs"
   },
   "source": [
    "Eliminamos las filas con valores nulos de la columna ``vote_average``. Las filas anteriores, es decir, que tengan votos significativos, considerar todos los votos (hay filas que tienen una media de 0 pero ningun voto, por lo que no son válidas)"
   ]
  },
  {
   "cell_type": "code",
   "execution_count": 10,
   "metadata": {
    "id": "znyM_pPa7ihN",
    "outputId": "2f4b571e-5b5f-4c78-f42d-d69a593efd42"
   },
   "outputs": [
    {
     "data": {
      "text/plain": [
       "0    7.7\n",
       "1    6.9\n",
       "2    6.5\n",
       "3    6.1\n",
       "4    5.7\n",
       "Name: vote_average, dtype: float64"
      ]
     },
     "execution_count": 10,
     "metadata": {},
     "output_type": "execute_result"
    }
   ],
   "source": [
    "'''VOTE_AVERAGE'''\n",
    "\n",
    "df[\"vote_average\"] = df.drop(df[df.vote_average.isna()].index, inplace=False)[\"vote_average\"]\n",
    "df[\"vote_average\"].head()"
   ]
  },
  {
   "cell_type": "markdown",
   "metadata": {
    "id": "RGVBeHqcnRYB"
   },
   "source": [
    "### 1.3.7 Release date"
   ]
  },
  {
   "cell_type": "markdown",
   "metadata": {
    "id": "BeegnuPhntNO"
   },
   "source": [
    "Eliminamos las filas con valores nulos de esta columna. La columna de las fechas estaba en string (probablemente debido a los valores erroneos que había al principio) así que la convertimos en una columna de tipo datetime.\n",
    "\n",
    "Podemos dejarlos como están o bien agrupar los años para extraer conclusiones"
   ]
  },
  {
   "cell_type": "code",
   "execution_count": 11,
   "metadata": {
    "id": "fokrJc3m7ihN",
    "outputId": "631d4376-4102-4ad3-dfc7-a34832a02f70"
   },
   "outputs": [
    {
     "data": {
      "text/plain": [
       "0   1995-10-30\n",
       "1   1995-12-15\n",
       "2   1995-12-22\n",
       "3   1995-12-22\n",
       "4   1995-02-10\n",
       "Name: release_date, dtype: datetime64[ns]"
      ]
     },
     "execution_count": 11,
     "metadata": {},
     "output_type": "execute_result"
    }
   ],
   "source": [
    "'''RELEASE_DATE'''\n",
    "\n",
    "df[\"release_date\"] = df.drop(df[df.release_date.isna()].index, inplace=False)[\"release_date\"]\n",
    "df[\"release_date\"] = pd.to_datetime(df[\"release_date\"])\n",
    "df[\"release_date\"].head()\n",
    "\n",
    "#df_years = preprocessed['release_date'].groupby(preprocessed.release_date.dt.year)\n",
    "#print(df_years.first())"
   ]
  },
  {
   "cell_type": "code",
   "execution_count": 12,
   "metadata": {},
   "outputs": [
    {
     "data": {
      "text/html": [
       "<div>\n",
       "<style scoped>\n",
       "    .dataframe tbody tr th:only-of-type {\n",
       "        vertical-align: middle;\n",
       "    }\n",
       "\n",
       "    .dataframe tbody tr th {\n",
       "        vertical-align: top;\n",
       "    }\n",
       "\n",
       "    .dataframe thead th {\n",
       "        text-align: right;\n",
       "    }\n",
       "</style>\n",
       "<table border=\"1\" class=\"dataframe\">\n",
       "  <thead>\n",
       "    <tr style=\"text-align: right;\">\n",
       "      <th></th>\n",
       "      <th>belongs_to_collection</th>\n",
       "      <th>budget</th>\n",
       "      <th>genres</th>\n",
       "      <th>id</th>\n",
       "      <th>original_language</th>\n",
       "      <th>overview</th>\n",
       "      <th>production_companies</th>\n",
       "      <th>production_countries</th>\n",
       "      <th>revenue</th>\n",
       "      <th>runtime</th>\n",
       "      <th>spoken_languages</th>\n",
       "      <th>tagline</th>\n",
       "      <th>title</th>\n",
       "      <th>vote_average</th>\n",
       "      <th>vote_count</th>\n",
       "      <th>release_month</th>\n",
       "      <th>release_day</th>\n",
       "    </tr>\n",
       "  </thead>\n",
       "  <tbody>\n",
       "    <tr>\n",
       "      <th>0</th>\n",
       "      <td>{'id': 10194, 'name': 'Toy Story Collection', ...</td>\n",
       "      <td>30000000</td>\n",
       "      <td>[{'id': 16, 'name': 'Animation'}, {'id': 35, '...</td>\n",
       "      <td>862</td>\n",
       "      <td>en</td>\n",
       "      <td>[led, woody, andys, toy, live, happily, room, ...</td>\n",
       "      <td>[{'name': 'Pixar Animation Studios', 'id': 3}]</td>\n",
       "      <td>[{'iso_3166_1': 'US', 'name': 'United States o...</td>\n",
       "      <td>373554033.0</td>\n",
       "      <td>81.0</td>\n",
       "      <td>[{'iso_639_1': 'en', 'name': 'English'}]</td>\n",
       "      <td>[]</td>\n",
       "      <td>[toy, story]</td>\n",
       "      <td>7.7</td>\n",
       "      <td>5415.0</td>\n",
       "      <td>10.0</td>\n",
       "      <td>Monday</td>\n",
       "    </tr>\n",
       "    <tr>\n",
       "      <th>1</th>\n",
       "      <td>NaN</td>\n",
       "      <td>65000000</td>\n",
       "      <td>[{'id': 12, 'name': 'Adventure'}, {'id': 14, '...</td>\n",
       "      <td>8844</td>\n",
       "      <td>en</td>\n",
       "      <td>[sibling, judy, peter, discover, enchanted, bo...</td>\n",
       "      <td>[{'name': 'TriStar Pictures', 'id': 559}, {'na...</td>\n",
       "      <td>[{'iso_3166_1': 'US', 'name': 'United States o...</td>\n",
       "      <td>262797249.0</td>\n",
       "      <td>104.0</td>\n",
       "      <td>[{'iso_639_1': 'en', 'name': 'English'}, {'iso...</td>\n",
       "      <td>[roll, dice, unleash, excitement]</td>\n",
       "      <td>[jumanji]</td>\n",
       "      <td>6.9</td>\n",
       "      <td>2413.0</td>\n",
       "      <td>12.0</td>\n",
       "      <td>Friday</td>\n",
       "    </tr>\n",
       "    <tr>\n",
       "      <th>2</th>\n",
       "      <td>{'id': 119050, 'name': 'Grumpy Old Men Collect...</td>\n",
       "      <td>0</td>\n",
       "      <td>[{'id': 10749, 'name': 'Romance'}, {'id': 35, ...</td>\n",
       "      <td>15602</td>\n",
       "      <td>en</td>\n",
       "      <td>[family, wedding, reignites, ancient, feud, ne...</td>\n",
       "      <td>[{'name': 'Warner Bros.', 'id': 6194}, {'name'...</td>\n",
       "      <td>[{'iso_3166_1': 'US', 'name': 'United States o...</td>\n",
       "      <td>0.0</td>\n",
       "      <td>101.0</td>\n",
       "      <td>[{'iso_639_1': 'en', 'name': 'English'}]</td>\n",
       "      <td>[still, yelling, still, fighting, still, ready...</td>\n",
       "      <td>[grumpier, old, men]</td>\n",
       "      <td>6.5</td>\n",
       "      <td>92.0</td>\n",
       "      <td>12.0</td>\n",
       "      <td>Friday</td>\n",
       "    </tr>\n",
       "    <tr>\n",
       "      <th>3</th>\n",
       "      <td>NaN</td>\n",
       "      <td>16000000</td>\n",
       "      <td>[{'id': 35, 'name': 'Comedy'}, {'id': 18, 'nam...</td>\n",
       "      <td>31357</td>\n",
       "      <td>en</td>\n",
       "      <td>[cheated, mistreated, stepped, woman, holding,...</td>\n",
       "      <td>[{'name': 'Twentieth Century Fox Film Corporat...</td>\n",
       "      <td>[{'iso_3166_1': 'US', 'name': 'United States o...</td>\n",
       "      <td>81452156.0</td>\n",
       "      <td>127.0</td>\n",
       "      <td>[{'iso_639_1': 'en', 'name': 'English'}]</td>\n",
       "      <td>[friend, people, let, never, let, forget]</td>\n",
       "      <td>[waiting, exhale]</td>\n",
       "      <td>6.1</td>\n",
       "      <td>34.0</td>\n",
       "      <td>12.0</td>\n",
       "      <td>Friday</td>\n",
       "    </tr>\n",
       "    <tr>\n",
       "      <th>4</th>\n",
       "      <td>{'id': 96871, 'name': 'Father of the Bride Col...</td>\n",
       "      <td>0</td>\n",
       "      <td>[{'id': 35, 'name': 'Comedy'}]</td>\n",
       "      <td>11862</td>\n",
       "      <td>en</td>\n",
       "      <td>[george, bank, recovered, daughter, wedding, r...</td>\n",
       "      <td>[{'name': 'Sandollar Productions', 'id': 5842}...</td>\n",
       "      <td>[{'iso_3166_1': 'US', 'name': 'United States o...</td>\n",
       "      <td>76578911.0</td>\n",
       "      <td>106.0</td>\n",
       "      <td>[{'iso_639_1': 'en', 'name': 'English'}]</td>\n",
       "      <td>[world, back, normal, he, surprise, life]</td>\n",
       "      <td>[father, bride, part, ii]</td>\n",
       "      <td>5.7</td>\n",
       "      <td>173.0</td>\n",
       "      <td>2.0</td>\n",
       "      <td>Friday</td>\n",
       "    </tr>\n",
       "  </tbody>\n",
       "</table>\n",
       "</div>"
      ],
      "text/plain": [
       "                               belongs_to_collection    budget  \\\n",
       "0  {'id': 10194, 'name': 'Toy Story Collection', ...  30000000   \n",
       "1                                                NaN  65000000   \n",
       "2  {'id': 119050, 'name': 'Grumpy Old Men Collect...         0   \n",
       "3                                                NaN  16000000   \n",
       "4  {'id': 96871, 'name': 'Father of the Bride Col...         0   \n",
       "\n",
       "                                              genres     id original_language  \\\n",
       "0  [{'id': 16, 'name': 'Animation'}, {'id': 35, '...    862                en   \n",
       "1  [{'id': 12, 'name': 'Adventure'}, {'id': 14, '...   8844                en   \n",
       "2  [{'id': 10749, 'name': 'Romance'}, {'id': 35, ...  15602                en   \n",
       "3  [{'id': 35, 'name': 'Comedy'}, {'id': 18, 'nam...  31357                en   \n",
       "4                     [{'id': 35, 'name': 'Comedy'}]  11862                en   \n",
       "\n",
       "                                            overview  \\\n",
       "0  [led, woody, andys, toy, live, happily, room, ...   \n",
       "1  [sibling, judy, peter, discover, enchanted, bo...   \n",
       "2  [family, wedding, reignites, ancient, feud, ne...   \n",
       "3  [cheated, mistreated, stepped, woman, holding,...   \n",
       "4  [george, bank, recovered, daughter, wedding, r...   \n",
       "\n",
       "                                production_companies  \\\n",
       "0     [{'name': 'Pixar Animation Studios', 'id': 3}]   \n",
       "1  [{'name': 'TriStar Pictures', 'id': 559}, {'na...   \n",
       "2  [{'name': 'Warner Bros.', 'id': 6194}, {'name'...   \n",
       "3  [{'name': 'Twentieth Century Fox Film Corporat...   \n",
       "4  [{'name': 'Sandollar Productions', 'id': 5842}...   \n",
       "\n",
       "                                production_countries      revenue  runtime  \\\n",
       "0  [{'iso_3166_1': 'US', 'name': 'United States o...  373554033.0     81.0   \n",
       "1  [{'iso_3166_1': 'US', 'name': 'United States o...  262797249.0    104.0   \n",
       "2  [{'iso_3166_1': 'US', 'name': 'United States o...          0.0    101.0   \n",
       "3  [{'iso_3166_1': 'US', 'name': 'United States o...   81452156.0    127.0   \n",
       "4  [{'iso_3166_1': 'US', 'name': 'United States o...   76578911.0    106.0   \n",
       "\n",
       "                                    spoken_languages  \\\n",
       "0           [{'iso_639_1': 'en', 'name': 'English'}]   \n",
       "1  [{'iso_639_1': 'en', 'name': 'English'}, {'iso...   \n",
       "2           [{'iso_639_1': 'en', 'name': 'English'}]   \n",
       "3           [{'iso_639_1': 'en', 'name': 'English'}]   \n",
       "4           [{'iso_639_1': 'en', 'name': 'English'}]   \n",
       "\n",
       "                                             tagline  \\\n",
       "0                                                 []   \n",
       "1                  [roll, dice, unleash, excitement]   \n",
       "2  [still, yelling, still, fighting, still, ready...   \n",
       "3          [friend, people, let, never, let, forget]   \n",
       "4          [world, back, normal, he, surprise, life]   \n",
       "\n",
       "                       title  vote_average  vote_count  release_month  \\\n",
       "0               [toy, story]           7.7      5415.0           10.0   \n",
       "1                  [jumanji]           6.9      2413.0           12.0   \n",
       "2       [grumpier, old, men]           6.5        92.0           12.0   \n",
       "3          [waiting, exhale]           6.1        34.0           12.0   \n",
       "4  [father, bride, part, ii]           5.7       173.0            2.0   \n",
       "\n",
       "  release_day  \n",
       "0      Monday  \n",
       "1      Friday  \n",
       "2      Friday  \n",
       "3      Friday  \n",
       "4      Friday  "
      ]
     },
     "execution_count": 12,
     "metadata": {},
     "output_type": "execute_result"
    }
   ],
   "source": [
    "df[\"release_month\"] = df[\"release_date\"].dt.month\n",
    "df[\"release_day\"] = df[\"release_date\"].dt.day_name()\n",
    "df.drop([\"release_date\"], axis=1, inplace=True)\n",
    "df.head()"
   ]
  },
  {
   "cell_type": "markdown",
   "metadata": {
    "id": "w9RYST6KpEKW"
   },
   "source": [
    "### 1.3.8 Runtime"
   ]
  },
  {
   "cell_type": "markdown",
   "metadata": {
    "id": "IS-ZsTXipJja"
   },
   "source": [
    "Eliminamos las filas con valores nulos y se borran los que tienen valor 0 porque no tiene sentido que una pelicula tenga 0 minutos."
   ]
  },
  {
   "cell_type": "code",
   "execution_count": 13,
   "metadata": {
    "id": "OJ51y-I87ihO",
    "outputId": "5c6e2a0f-090d-4831-b256-f88949df6970"
   },
   "outputs": [
    {
     "data": {
      "text/plain": [
       "0     81.0\n",
       "1    104.0\n",
       "2    101.0\n",
       "3    127.0\n",
       "4    106.0\n",
       "Name: runtime, dtype: float64"
      ]
     },
     "execution_count": 13,
     "metadata": {},
     "output_type": "execute_result"
    }
   ],
   "source": [
    "'''RUNTIME'''\n",
    "\n",
    "df[\"runtime\"] = df.drop(df[df.runtime.isna()].index, inplace=False)[\"runtime\"]\n",
    "df = df[df.runtime >= 1]\n",
    "df[\"runtime\"].head()"
   ]
  },
  {
   "cell_type": "markdown",
   "metadata": {
    "id": "Mj1AADlspsez"
   },
   "source": [
    "### 1.3.9 Original language"
   ]
  },
  {
   "cell_type": "markdown",
   "metadata": {
    "id": "usD8uBzVpxos"
   },
   "source": [
    "Para elegir los idiomas validos vamos a ver los 6 más usados y juntar los otros en la categoria resto.\n",
    "\n",
    "\n",
    "Cambiar filas con idiomas inválidos."
   ]
  },
  {
   "cell_type": "code",
   "execution_count": 14,
   "metadata": {
    "id": "yEl2K06-7ihO",
    "outputId": "1278a78c-ffe7-4198-ffb6-43686171b9be"
   },
   "outputs": [],
   "source": [
    "'''ORIGINAL LANGUAGE'''\n",
    "\n",
    "idiomas_validos = {'en', 'fr', 'it', 'ja', 'de', 'es'}\n",
    "\n",
    "def preprocess_language(text):\n",
    "    if text in idiomas_validos:\n",
    "        return text\n",
    "    else:\n",
    "        return \"other\""
   ]
  },
  {
   "cell_type": "code",
   "execution_count": 15,
   "metadata": {},
   "outputs": [
    {
     "data": {
      "text/plain": [
       "en       29572\n",
       "other     5195\n",
       "fr        2226\n",
       "ja        1282\n",
       "it        1134\n",
       "de         927\n",
       "es         848\n",
       "Name: original_language, dtype: int64"
      ]
     },
     "execution_count": 15,
     "metadata": {},
     "output_type": "execute_result"
    }
   ],
   "source": [
    "df[\"original_language\"] = df[\"original_language\"].apply(preprocess_language)\n",
    "df[\"original_language\"].value_counts()"
   ]
  },
  {
   "cell_type": "markdown",
   "metadata": {
    "id": "kF7z7aWkqETM"
   },
   "source": [
    "Para elegir los idiomas validos vamos a ver los 6 más usados y hacer un one hot encoding con los que aparezcan."
   ]
  },
  {
   "cell_type": "code",
   "execution_count": 16,
   "metadata": {
    "id": "DG9h0IlB7ihP",
    "outputId": "5e7862a9-459c-4dd8-97de-8db2fb9ed3d6"
   },
   "outputs": [],
   "source": [
    "def language_counts(rows):\n",
    "    languages_dict = {}\n",
    "    \n",
    "    for row in rows:\n",
    "        try:\n",
    "            languages = ast.literal_eval(row)\n",
    "            \n",
    "            for lang in languages:\n",
    "                code = lang[\"iso_639_1\"]\n",
    "                \n",
    "                if code in languages_dict.keys():\n",
    "                    languages_dict[code] += 1\n",
    "                else:\n",
    "                    languages_dict[code] = 1\n",
    "        except Exception as e:\n",
    "            continue\n",
    "            \n",
    "    sorted_counts = sorted(languages_dict.items(), key=lambda x: x[1], reverse=True)\n",
    "    return sorted_counts\n",
    "\n",
    "\n",
    "\n",
    "def treat_languages(df, best_languages):\n",
    "    for lang in best_languages:\n",
    "        df[f'spoken_lang_{lang}'] = 0\n",
    "    df[f'spoken_lang_other'] = 0\n",
    "    \n",
    "    for i, row in df.iterrows():\n",
    "        try:\n",
    "            language_list = ast.literal_eval(row['spoken_languages'])\n",
    "            for language_dict in language_list:\n",
    "                code = language_dict['iso_639_1']\n",
    "                if code in best_languages:\n",
    "                    df.iloc[i, df.columns.get_loc(f'spoken_lang_{code}')] = 1\n",
    "                else:\n",
    "                    df.iloc[i, df.columns.get_loc(f'spoken_lang_other')] = 1\n",
    "        except:\n",
    "            continue\n"
   ]
  },
  {
   "cell_type": "code",
   "execution_count": 17,
   "metadata": {},
   "outputs": [],
   "source": [
    "lang_counts = language_counts(df[\"spoken_languages\"])\n",
    "lang_valid = [lang_counts[i][0] for i in range(7)]\n",
    "lang_valid.append(\"other\")"
   ]
  },
  {
   "cell_type": "code",
   "execution_count": 18,
   "metadata": {},
   "outputs": [
    {
     "data": {
      "text/html": [
       "<div>\n",
       "<style scoped>\n",
       "    .dataframe tbody tr th:only-of-type {\n",
       "        vertical-align: middle;\n",
       "    }\n",
       "\n",
       "    .dataframe tbody tr th {\n",
       "        vertical-align: top;\n",
       "    }\n",
       "\n",
       "    .dataframe thead th {\n",
       "        text-align: right;\n",
       "    }\n",
       "</style>\n",
       "<table border=\"1\" class=\"dataframe\">\n",
       "  <thead>\n",
       "    <tr style=\"text-align: right;\">\n",
       "      <th></th>\n",
       "      <th>belongs_to_collection</th>\n",
       "      <th>budget</th>\n",
       "      <th>genres</th>\n",
       "      <th>id</th>\n",
       "      <th>original_language</th>\n",
       "      <th>overview</th>\n",
       "      <th>production_companies</th>\n",
       "      <th>production_countries</th>\n",
       "      <th>revenue</th>\n",
       "      <th>runtime</th>\n",
       "      <th>...</th>\n",
       "      <th>release_month</th>\n",
       "      <th>release_day</th>\n",
       "      <th>spoken_lang_en</th>\n",
       "      <th>spoken_lang_fr</th>\n",
       "      <th>spoken_lang_de</th>\n",
       "      <th>spoken_lang_es</th>\n",
       "      <th>spoken_lang_it</th>\n",
       "      <th>spoken_lang_ja</th>\n",
       "      <th>spoken_lang_ru</th>\n",
       "      <th>spoken_lang_other</th>\n",
       "    </tr>\n",
       "  </thead>\n",
       "  <tbody>\n",
       "    <tr>\n",
       "      <th>0</th>\n",
       "      <td>{'id': 10194, 'name': 'Toy Story Collection', ...</td>\n",
       "      <td>30000000</td>\n",
       "      <td>[{'id': 16, 'name': 'Animation'}, {'id': 35, '...</td>\n",
       "      <td>862</td>\n",
       "      <td>en</td>\n",
       "      <td>[led, woody, andys, toy, live, happily, room, ...</td>\n",
       "      <td>[{'name': 'Pixar Animation Studios', 'id': 3}]</td>\n",
       "      <td>[{'iso_3166_1': 'US', 'name': 'United States o...</td>\n",
       "      <td>373554033.0</td>\n",
       "      <td>81.0</td>\n",
       "      <td>...</td>\n",
       "      <td>10.0</td>\n",
       "      <td>Monday</td>\n",
       "      <td>1</td>\n",
       "      <td>0</td>\n",
       "      <td>0</td>\n",
       "      <td>0</td>\n",
       "      <td>0</td>\n",
       "      <td>0</td>\n",
       "      <td>0</td>\n",
       "      <td>0</td>\n",
       "    </tr>\n",
       "    <tr>\n",
       "      <th>1</th>\n",
       "      <td>NaN</td>\n",
       "      <td>65000000</td>\n",
       "      <td>[{'id': 12, 'name': 'Adventure'}, {'id': 14, '...</td>\n",
       "      <td>8844</td>\n",
       "      <td>en</td>\n",
       "      <td>[sibling, judy, peter, discover, enchanted, bo...</td>\n",
       "      <td>[{'name': 'TriStar Pictures', 'id': 559}, {'na...</td>\n",
       "      <td>[{'iso_3166_1': 'US', 'name': 'United States o...</td>\n",
       "      <td>262797249.0</td>\n",
       "      <td>104.0</td>\n",
       "      <td>...</td>\n",
       "      <td>12.0</td>\n",
       "      <td>Friday</td>\n",
       "      <td>1</td>\n",
       "      <td>1</td>\n",
       "      <td>0</td>\n",
       "      <td>0</td>\n",
       "      <td>0</td>\n",
       "      <td>0</td>\n",
       "      <td>0</td>\n",
       "      <td>0</td>\n",
       "    </tr>\n",
       "    <tr>\n",
       "      <th>2</th>\n",
       "      <td>{'id': 119050, 'name': 'Grumpy Old Men Collect...</td>\n",
       "      <td>0</td>\n",
       "      <td>[{'id': 10749, 'name': 'Romance'}, {'id': 35, ...</td>\n",
       "      <td>15602</td>\n",
       "      <td>en</td>\n",
       "      <td>[family, wedding, reignites, ancient, feud, ne...</td>\n",
       "      <td>[{'name': 'Warner Bros.', 'id': 6194}, {'name'...</td>\n",
       "      <td>[{'iso_3166_1': 'US', 'name': 'United States o...</td>\n",
       "      <td>0.0</td>\n",
       "      <td>101.0</td>\n",
       "      <td>...</td>\n",
       "      <td>12.0</td>\n",
       "      <td>Friday</td>\n",
       "      <td>1</td>\n",
       "      <td>0</td>\n",
       "      <td>0</td>\n",
       "      <td>0</td>\n",
       "      <td>0</td>\n",
       "      <td>0</td>\n",
       "      <td>0</td>\n",
       "      <td>0</td>\n",
       "    </tr>\n",
       "    <tr>\n",
       "      <th>3</th>\n",
       "      <td>NaN</td>\n",
       "      <td>16000000</td>\n",
       "      <td>[{'id': 35, 'name': 'Comedy'}, {'id': 18, 'nam...</td>\n",
       "      <td>31357</td>\n",
       "      <td>en</td>\n",
       "      <td>[cheated, mistreated, stepped, woman, holding,...</td>\n",
       "      <td>[{'name': 'Twentieth Century Fox Film Corporat...</td>\n",
       "      <td>[{'iso_3166_1': 'US', 'name': 'United States o...</td>\n",
       "      <td>81452156.0</td>\n",
       "      <td>127.0</td>\n",
       "      <td>...</td>\n",
       "      <td>12.0</td>\n",
       "      <td>Friday</td>\n",
       "      <td>1</td>\n",
       "      <td>0</td>\n",
       "      <td>0</td>\n",
       "      <td>0</td>\n",
       "      <td>0</td>\n",
       "      <td>0</td>\n",
       "      <td>0</td>\n",
       "      <td>0</td>\n",
       "    </tr>\n",
       "    <tr>\n",
       "      <th>4</th>\n",
       "      <td>{'id': 96871, 'name': 'Father of the Bride Col...</td>\n",
       "      <td>0</td>\n",
       "      <td>[{'id': 35, 'name': 'Comedy'}]</td>\n",
       "      <td>11862</td>\n",
       "      <td>en</td>\n",
       "      <td>[george, bank, recovered, daughter, wedding, r...</td>\n",
       "      <td>[{'name': 'Sandollar Productions', 'id': 5842}...</td>\n",
       "      <td>[{'iso_3166_1': 'US', 'name': 'United States o...</td>\n",
       "      <td>76578911.0</td>\n",
       "      <td>106.0</td>\n",
       "      <td>...</td>\n",
       "      <td>2.0</td>\n",
       "      <td>Friday</td>\n",
       "      <td>1</td>\n",
       "      <td>0</td>\n",
       "      <td>0</td>\n",
       "      <td>0</td>\n",
       "      <td>0</td>\n",
       "      <td>0</td>\n",
       "      <td>0</td>\n",
       "      <td>0</td>\n",
       "    </tr>\n",
       "  </tbody>\n",
       "</table>\n",
       "<p>5 rows × 24 columns</p>\n",
       "</div>"
      ],
      "text/plain": [
       "                               belongs_to_collection    budget  \\\n",
       "0  {'id': 10194, 'name': 'Toy Story Collection', ...  30000000   \n",
       "1                                                NaN  65000000   \n",
       "2  {'id': 119050, 'name': 'Grumpy Old Men Collect...         0   \n",
       "3                                                NaN  16000000   \n",
       "4  {'id': 96871, 'name': 'Father of the Bride Col...         0   \n",
       "\n",
       "                                              genres     id original_language  \\\n",
       "0  [{'id': 16, 'name': 'Animation'}, {'id': 35, '...    862                en   \n",
       "1  [{'id': 12, 'name': 'Adventure'}, {'id': 14, '...   8844                en   \n",
       "2  [{'id': 10749, 'name': 'Romance'}, {'id': 35, ...  15602                en   \n",
       "3  [{'id': 35, 'name': 'Comedy'}, {'id': 18, 'nam...  31357                en   \n",
       "4                     [{'id': 35, 'name': 'Comedy'}]  11862                en   \n",
       "\n",
       "                                            overview  \\\n",
       "0  [led, woody, andys, toy, live, happily, room, ...   \n",
       "1  [sibling, judy, peter, discover, enchanted, bo...   \n",
       "2  [family, wedding, reignites, ancient, feud, ne...   \n",
       "3  [cheated, mistreated, stepped, woman, holding,...   \n",
       "4  [george, bank, recovered, daughter, wedding, r...   \n",
       "\n",
       "                                production_companies  \\\n",
       "0     [{'name': 'Pixar Animation Studios', 'id': 3}]   \n",
       "1  [{'name': 'TriStar Pictures', 'id': 559}, {'na...   \n",
       "2  [{'name': 'Warner Bros.', 'id': 6194}, {'name'...   \n",
       "3  [{'name': 'Twentieth Century Fox Film Corporat...   \n",
       "4  [{'name': 'Sandollar Productions', 'id': 5842}...   \n",
       "\n",
       "                                production_countries      revenue  runtime  \\\n",
       "0  [{'iso_3166_1': 'US', 'name': 'United States o...  373554033.0     81.0   \n",
       "1  [{'iso_3166_1': 'US', 'name': 'United States o...  262797249.0    104.0   \n",
       "2  [{'iso_3166_1': 'US', 'name': 'United States o...          0.0    101.0   \n",
       "3  [{'iso_3166_1': 'US', 'name': 'United States o...   81452156.0    127.0   \n",
       "4  [{'iso_3166_1': 'US', 'name': 'United States o...   76578911.0    106.0   \n",
       "\n",
       "   ... release_month release_day  spoken_lang_en  spoken_lang_fr  \\\n",
       "0  ...          10.0      Monday               1               0   \n",
       "1  ...          12.0      Friday               1               1   \n",
       "2  ...          12.0      Friday               1               0   \n",
       "3  ...          12.0      Friday               1               0   \n",
       "4  ...           2.0      Friday               1               0   \n",
       "\n",
       "   spoken_lang_de spoken_lang_es  spoken_lang_it  spoken_lang_ja  \\\n",
       "0               0              0               0               0   \n",
       "1               0              0               0               0   \n",
       "2               0              0               0               0   \n",
       "3               0              0               0               0   \n",
       "4               0              0               0               0   \n",
       "\n",
       "   spoken_lang_ru  spoken_lang_other  \n",
       "0               0                  0  \n",
       "1               0                  0  \n",
       "2               0                  0  \n",
       "3               0                  0  \n",
       "4               0                  0  \n",
       "\n",
       "[5 rows x 24 columns]"
      ]
     },
     "execution_count": 18,
     "metadata": {},
     "output_type": "execute_result"
    }
   ],
   "source": [
    "treat_languages(df, lang_valid)\n",
    "df.drop(['spoken_languages'], axis=1, inplace=True)\n",
    "df.head()"
   ]
  },
  {
   "cell_type": "markdown",
   "metadata": {
    "id": "5vrEgU0UqYLX"
   },
   "source": [
    "### 1.3.10 Genre"
   ]
  },
  {
   "cell_type": "markdown",
   "metadata": {
    "id": "6XSNJu3sqhwF"
   },
   "source": [
    "Para elegir los generos validos vamos a ver los 5 mas usados y juntar los otros en la categoria resto."
   ]
  },
  {
   "cell_type": "code",
   "execution_count": 19,
   "metadata": {
    "id": "_IiI6F8N7ihQ",
    "outputId": "df41ba5c-4bd9-4566-81a6-2352baa7d118"
   },
   "outputs": [],
   "source": [
    "\"\"\"\n",
    "\n",
    "#print(pd.isnull(df).any())\n",
    "print(df[\"genres\"].value_counts(dropna=False))\n",
    "\n",
    "#Camabiar filas con generos inválidos\n",
    "generos_validos = {'1', '2', '3', '4', '5'}\n",
    "\n",
    "for nodo in df:\n",
    "   if genres not in generos_validos \n",
    "      genres = other\n",
    "\n",
    "\"\"\"\n",
    "\n",
    "def genre_counts(rows):\n",
    "    genre_dict = {}\n",
    "    \n",
    "    for row in rows:\n",
    "        try:\n",
    "            genres = ast.literal_eval(row)\n",
    "            \n",
    "            for genre in genres:\n",
    "                name = genre[\"name\"]\n",
    "                \n",
    "                if name in genre_dict.keys():\n",
    "                    genre_dict[name] += 1\n",
    "                else:\n",
    "                    genre_dict[name] = 1\n",
    "        except Exception as e:\n",
    "            continue\n",
    "            \n",
    "    sorted_counts = sorted(genre_dict.items(), key=lambda x: x[1], reverse=True)\n",
    "    return sorted_counts\n",
    "\n",
    "\n",
    "\n",
    "def treat_genres(df, valid_genres):\n",
    "    for genre in valid_genres:\n",
    "        df[f'genre_{genre}'] = 0\n",
    "    \n",
    "    df[f'genre_other'] = 0\n",
    "    \n",
    "    for i, row in df.iterrows():\n",
    "        try:\n",
    "            genre_list = ast.literal_eval(row['genres'])\n",
    "            for genre_dict in genre_list:\n",
    "                name = genre_dict['name']\n",
    "                \n",
    "                if name in valid_genres:\n",
    "                    df.iloc[i, df.columns.get_loc(f'genre_{name}')] = 1\n",
    "                else:\n",
    "                    df.iloc[i, df.columns.get_loc(f'genre_other')] = 1\n",
    "        except:\n",
    "            continue"
   ]
  },
  {
   "cell_type": "code",
   "execution_count": 20,
   "metadata": {},
   "outputs": [],
   "source": [
    "genres = genre_counts(df[\"genres\"])\n",
    "genre_valid = [genres[i][0] for i in range(7)]\n",
    "genre_valid.append(\"other\")"
   ]
  },
  {
   "cell_type": "code",
   "execution_count": 21,
   "metadata": {},
   "outputs": [
    {
     "data": {
      "text/html": [
       "<div>\n",
       "<style scoped>\n",
       "    .dataframe tbody tr th:only-of-type {\n",
       "        vertical-align: middle;\n",
       "    }\n",
       "\n",
       "    .dataframe tbody tr th {\n",
       "        vertical-align: top;\n",
       "    }\n",
       "\n",
       "    .dataframe thead th {\n",
       "        text-align: right;\n",
       "    }\n",
       "</style>\n",
       "<table border=\"1\" class=\"dataframe\">\n",
       "  <thead>\n",
       "    <tr style=\"text-align: right;\">\n",
       "      <th></th>\n",
       "      <th>belongs_to_collection</th>\n",
       "      <th>budget</th>\n",
       "      <th>id</th>\n",
       "      <th>original_language</th>\n",
       "      <th>overview</th>\n",
       "      <th>production_companies</th>\n",
       "      <th>production_countries</th>\n",
       "      <th>revenue</th>\n",
       "      <th>runtime</th>\n",
       "      <th>tagline</th>\n",
       "      <th>...</th>\n",
       "      <th>spoken_lang_ru</th>\n",
       "      <th>spoken_lang_other</th>\n",
       "      <th>genre_Drama</th>\n",
       "      <th>genre_Comedy</th>\n",
       "      <th>genre_Thriller</th>\n",
       "      <th>genre_Romance</th>\n",
       "      <th>genre_Action</th>\n",
       "      <th>genre_Horror</th>\n",
       "      <th>genre_Crime</th>\n",
       "      <th>genre_other</th>\n",
       "    </tr>\n",
       "  </thead>\n",
       "  <tbody>\n",
       "    <tr>\n",
       "      <th>0</th>\n",
       "      <td>{'id': 10194, 'name': 'Toy Story Collection', ...</td>\n",
       "      <td>30000000</td>\n",
       "      <td>862</td>\n",
       "      <td>en</td>\n",
       "      <td>[led, woody, andys, toy, live, happily, room, ...</td>\n",
       "      <td>[{'name': 'Pixar Animation Studios', 'id': 3}]</td>\n",
       "      <td>[{'iso_3166_1': 'US', 'name': 'United States o...</td>\n",
       "      <td>373554033.0</td>\n",
       "      <td>81.0</td>\n",
       "      <td>[]</td>\n",
       "      <td>...</td>\n",
       "      <td>0</td>\n",
       "      <td>0</td>\n",
       "      <td>0</td>\n",
       "      <td>1</td>\n",
       "      <td>0</td>\n",
       "      <td>0</td>\n",
       "      <td>0</td>\n",
       "      <td>0</td>\n",
       "      <td>0</td>\n",
       "      <td>1</td>\n",
       "    </tr>\n",
       "    <tr>\n",
       "      <th>1</th>\n",
       "      <td>NaN</td>\n",
       "      <td>65000000</td>\n",
       "      <td>8844</td>\n",
       "      <td>en</td>\n",
       "      <td>[sibling, judy, peter, discover, enchanted, bo...</td>\n",
       "      <td>[{'name': 'TriStar Pictures', 'id': 559}, {'na...</td>\n",
       "      <td>[{'iso_3166_1': 'US', 'name': 'United States o...</td>\n",
       "      <td>262797249.0</td>\n",
       "      <td>104.0</td>\n",
       "      <td>[roll, dice, unleash, excitement]</td>\n",
       "      <td>...</td>\n",
       "      <td>0</td>\n",
       "      <td>0</td>\n",
       "      <td>0</td>\n",
       "      <td>0</td>\n",
       "      <td>0</td>\n",
       "      <td>0</td>\n",
       "      <td>0</td>\n",
       "      <td>0</td>\n",
       "      <td>0</td>\n",
       "      <td>1</td>\n",
       "    </tr>\n",
       "    <tr>\n",
       "      <th>2</th>\n",
       "      <td>{'id': 119050, 'name': 'Grumpy Old Men Collect...</td>\n",
       "      <td>0</td>\n",
       "      <td>15602</td>\n",
       "      <td>en</td>\n",
       "      <td>[family, wedding, reignites, ancient, feud, ne...</td>\n",
       "      <td>[{'name': 'Warner Bros.', 'id': 6194}, {'name'...</td>\n",
       "      <td>[{'iso_3166_1': 'US', 'name': 'United States o...</td>\n",
       "      <td>0.0</td>\n",
       "      <td>101.0</td>\n",
       "      <td>[still, yelling, still, fighting, still, ready...</td>\n",
       "      <td>...</td>\n",
       "      <td>0</td>\n",
       "      <td>0</td>\n",
       "      <td>0</td>\n",
       "      <td>1</td>\n",
       "      <td>0</td>\n",
       "      <td>1</td>\n",
       "      <td>0</td>\n",
       "      <td>0</td>\n",
       "      <td>0</td>\n",
       "      <td>0</td>\n",
       "    </tr>\n",
       "    <tr>\n",
       "      <th>3</th>\n",
       "      <td>NaN</td>\n",
       "      <td>16000000</td>\n",
       "      <td>31357</td>\n",
       "      <td>en</td>\n",
       "      <td>[cheated, mistreated, stepped, woman, holding,...</td>\n",
       "      <td>[{'name': 'Twentieth Century Fox Film Corporat...</td>\n",
       "      <td>[{'iso_3166_1': 'US', 'name': 'United States o...</td>\n",
       "      <td>81452156.0</td>\n",
       "      <td>127.0</td>\n",
       "      <td>[friend, people, let, never, let, forget]</td>\n",
       "      <td>...</td>\n",
       "      <td>0</td>\n",
       "      <td>0</td>\n",
       "      <td>1</td>\n",
       "      <td>1</td>\n",
       "      <td>0</td>\n",
       "      <td>1</td>\n",
       "      <td>0</td>\n",
       "      <td>0</td>\n",
       "      <td>0</td>\n",
       "      <td>0</td>\n",
       "    </tr>\n",
       "    <tr>\n",
       "      <th>4</th>\n",
       "      <td>{'id': 96871, 'name': 'Father of the Bride Col...</td>\n",
       "      <td>0</td>\n",
       "      <td>11862</td>\n",
       "      <td>en</td>\n",
       "      <td>[george, bank, recovered, daughter, wedding, r...</td>\n",
       "      <td>[{'name': 'Sandollar Productions', 'id': 5842}...</td>\n",
       "      <td>[{'iso_3166_1': 'US', 'name': 'United States o...</td>\n",
       "      <td>76578911.0</td>\n",
       "      <td>106.0</td>\n",
       "      <td>[world, back, normal, he, surprise, life]</td>\n",
       "      <td>...</td>\n",
       "      <td>0</td>\n",
       "      <td>0</td>\n",
       "      <td>0</td>\n",
       "      <td>1</td>\n",
       "      <td>0</td>\n",
       "      <td>0</td>\n",
       "      <td>0</td>\n",
       "      <td>0</td>\n",
       "      <td>0</td>\n",
       "      <td>0</td>\n",
       "    </tr>\n",
       "  </tbody>\n",
       "</table>\n",
       "<p>5 rows × 31 columns</p>\n",
       "</div>"
      ],
      "text/plain": [
       "                               belongs_to_collection    budget     id  \\\n",
       "0  {'id': 10194, 'name': 'Toy Story Collection', ...  30000000    862   \n",
       "1                                                NaN  65000000   8844   \n",
       "2  {'id': 119050, 'name': 'Grumpy Old Men Collect...         0  15602   \n",
       "3                                                NaN  16000000  31357   \n",
       "4  {'id': 96871, 'name': 'Father of the Bride Col...         0  11862   \n",
       "\n",
       "  original_language                                           overview  \\\n",
       "0                en  [led, woody, andys, toy, live, happily, room, ...   \n",
       "1                en  [sibling, judy, peter, discover, enchanted, bo...   \n",
       "2                en  [family, wedding, reignites, ancient, feud, ne...   \n",
       "3                en  [cheated, mistreated, stepped, woman, holding,...   \n",
       "4                en  [george, bank, recovered, daughter, wedding, r...   \n",
       "\n",
       "                                production_companies  \\\n",
       "0     [{'name': 'Pixar Animation Studios', 'id': 3}]   \n",
       "1  [{'name': 'TriStar Pictures', 'id': 559}, {'na...   \n",
       "2  [{'name': 'Warner Bros.', 'id': 6194}, {'name'...   \n",
       "3  [{'name': 'Twentieth Century Fox Film Corporat...   \n",
       "4  [{'name': 'Sandollar Productions', 'id': 5842}...   \n",
       "\n",
       "                                production_countries      revenue  runtime  \\\n",
       "0  [{'iso_3166_1': 'US', 'name': 'United States o...  373554033.0     81.0   \n",
       "1  [{'iso_3166_1': 'US', 'name': 'United States o...  262797249.0    104.0   \n",
       "2  [{'iso_3166_1': 'US', 'name': 'United States o...          0.0    101.0   \n",
       "3  [{'iso_3166_1': 'US', 'name': 'United States o...   81452156.0    127.0   \n",
       "4  [{'iso_3166_1': 'US', 'name': 'United States o...   76578911.0    106.0   \n",
       "\n",
       "                                             tagline  ... spoken_lang_ru  \\\n",
       "0                                                 []  ...              0   \n",
       "1                  [roll, dice, unleash, excitement]  ...              0   \n",
       "2  [still, yelling, still, fighting, still, ready...  ...              0   \n",
       "3          [friend, people, let, never, let, forget]  ...              0   \n",
       "4          [world, back, normal, he, surprise, life]  ...              0   \n",
       "\n",
       "   spoken_lang_other  genre_Drama  genre_Comedy genre_Thriller  genre_Romance  \\\n",
       "0                  0            0             1              0              0   \n",
       "1                  0            0             0              0              0   \n",
       "2                  0            0             1              0              1   \n",
       "3                  0            1             1              0              1   \n",
       "4                  0            0             1              0              0   \n",
       "\n",
       "   genre_Action  genre_Horror  genre_Crime  genre_other  \n",
       "0             0             0            0            1  \n",
       "1             0             0            0            1  \n",
       "2             0             0            0            0  \n",
       "3             0             0            0            0  \n",
       "4             0             0            0            0  \n",
       "\n",
       "[5 rows x 31 columns]"
      ]
     },
     "execution_count": 21,
     "metadata": {},
     "output_type": "execute_result"
    }
   ],
   "source": [
    "treat_genres(df, genre_valid)\n",
    "df.drop(['genres'], axis=1, inplace=True)\n",
    "df.head()"
   ]
  },
  {
   "cell_type": "code",
   "execution_count": 22,
   "metadata": {
    "id": "Ao1C4erD7ihR"
   },
   "outputs": [],
   "source": [
    "#Tenemos que elegir entre tocar o no el presupuesto, si lo dejamos tal cual o en 4 categorias que habia dudas \n",
    "#(que sean super produccion, gran produccion, produccion normal y produccion bajo presupuesto por ejemplo)"
   ]
  },
  {
   "cell_type": "markdown",
   "metadata": {
    "id": "fzbt_fu8q0w5"
   },
   "source": [
    "### 1.3.11 Production companies"
   ]
  },
  {
   "cell_type": "markdown",
   "metadata": {
    "id": "iYdgHP2_q-l4"
   },
   "source": [
    "En cuanto a la columna `production_companies`, esta es una columna con diccionarios de compañías, por lo que se hará será coger el 'id' de cada compañía productora de la película y contar las apariciones de cada compañía para, posteriormente, en esa misma columna poner el valor de las ocurrencias (popularidad) máxima de las compañías involucradas."
   ]
  },
  {
   "cell_type": "code",
   "execution_count": 23,
   "metadata": {
    "id": "RGYnt2hm7ihS"
   },
   "outputs": [],
   "source": [
    "'''PRODUCTION_COMPANIES'''\n",
    "\n",
    "def popularity_companies(rows):\n",
    "    companies_popularity = {}\n",
    "    for row in rows:\n",
    "        try:\n",
    "            companies = ast.literal_eval(row)\n",
    "            for company in companies:\n",
    "                if company['id'] in companies_popularity.keys():\n",
    "                    companies_popularity[company['id']] += 1\n",
    "                else:\n",
    "                    companies_popularity[company['id']] = 1\n",
    "        except Exception:\n",
    "            continue\n",
    "    return companies_popularity\n",
    "\n",
    "companies_popularity = popularity_companies(df['production_companies'])\n",
    "\n",
    "def treat_companies(row):\n",
    "    max_popularity = 0\n",
    "    try:\n",
    "        companies = ast.literal_eval(row)\n",
    "        for company in companies:\n",
    "            if int(companies_popularity[company['id']]) > max_popularity:\n",
    "                max_popularity = companies_popularity[company['id']]\n",
    "        return max_popularity\n",
    "    except Exception:\n",
    "        return max_popularity"
   ]
  },
  {
   "cell_type": "code",
   "execution_count": 24,
   "metadata": {
    "id": "enILuAqg7ihT",
    "outputId": "ed269b31-e414-444f-ad02-a6d6ec2fc62c"
   },
   "outputs": [
    {
     "data": {
      "text/plain": [
       "0       52\n",
       "1      196\n",
       "2     1184\n",
       "3      812\n",
       "4      224\n",
       "5     1184\n",
       "6      972\n",
       "7      261\n",
       "8      819\n",
       "9      270\n",
       "10     420\n",
       "11     420\n",
       "12     819\n",
       "13      83\n",
       "14     993\n",
       "15     819\n",
       "16     427\n",
       "17     182\n",
       "18    1184\n",
       "19     420\n",
       "Name: production_companies, dtype: int64"
      ]
     },
     "execution_count": 24,
     "metadata": {},
     "output_type": "execute_result"
    }
   ],
   "source": [
    "df['production_companies'] = df['production_companies'].apply(treat_companies)\n",
    "df['production_companies'].head(20)"
   ]
  },
  {
   "cell_type": "markdown",
   "metadata": {
    "id": "07J5jXqsrJBt"
   },
   "source": [
    "### 1.3.12 Production countries"
   ]
  },
  {
   "cell_type": "markdown",
   "metadata": {
    "id": "P1FH4m-KrP-c"
   },
   "source": [
    "Para `production_countries`, esta es una columna de diccionarios de compañías, por lo que el proceso sera coger los id's de cada compañía y crear una lista de los siete países que más aparecen. Esto se convertirá en columna de one hot encoding."
   ]
  },
  {
   "cell_type": "code",
   "execution_count": 25,
   "metadata": {
    "id": "7se_QBV07ihT",
    "outputId": "ddad1a63-443e-4acf-a957-28e59dc1226d"
   },
   "outputs": [],
   "source": [
    "'''PRODUCTION_COUNTRIES'''\n",
    "\n",
    "def popularity_countries(rows):\n",
    "    countries_popularity = {}\n",
    "    \n",
    "    for row in rows:\n",
    "        try:\n",
    "            countries = ast.literal_eval(row)\n",
    "            for country in countries:\n",
    "                if country['iso_3166_1'] in countries_popularity.keys():\n",
    "                    countries_popularity[country['iso_3166_1']] += 1\n",
    "                else:\n",
    "                    countries_popularity[country['iso_3166_1']] = 1\n",
    "        except:\n",
    "            continue\n",
    "            \n",
    "    countries = sorted(countries_popularity.items(), key=lambda x: x[1], reverse=True)[:7]\n",
    "    best_countries = []\n",
    "    \n",
    "    for country in countries:\n",
    "        best_countries.append(country[0])\n",
    "        \n",
    "    return best_countries\n",
    "\n",
    "\n",
    "def treat_countries(df, best_countries):\n",
    "    for country in best_countries:\n",
    "        df[f'production_{country}'] = 0\n",
    "    df['production_other'] = 0\n",
    "        \n",
    "    for i, row in df.iterrows():\n",
    "        try:\n",
    "            countries = ast.literal_eval(row['production_countries'])\n",
    "            for country in countries:\n",
    "                if country['iso_3166_1'] in best_countries:\n",
    "                    df.iloc[i, df.columns.get_loc(f'production_{country[\"iso_3166_1\"]}')] = 1\n",
    "                else:\n",
    "                    df.iloc[i, df.columns.get_loc('production_other')] = 1\n",
    "        except:\n",
    "            continue"
   ]
  },
  {
   "cell_type": "code",
   "execution_count": 26,
   "metadata": {},
   "outputs": [
    {
     "data": {
      "text/html": [
       "<div>\n",
       "<style scoped>\n",
       "    .dataframe tbody tr th:only-of-type {\n",
       "        vertical-align: middle;\n",
       "    }\n",
       "\n",
       "    .dataframe tbody tr th {\n",
       "        vertical-align: top;\n",
       "    }\n",
       "\n",
       "    .dataframe thead th {\n",
       "        text-align: right;\n",
       "    }\n",
       "</style>\n",
       "<table border=\"1\" class=\"dataframe\">\n",
       "  <thead>\n",
       "    <tr style=\"text-align: right;\">\n",
       "      <th></th>\n",
       "      <th>belongs_to_collection</th>\n",
       "      <th>budget</th>\n",
       "      <th>id</th>\n",
       "      <th>original_language</th>\n",
       "      <th>overview</th>\n",
       "      <th>production_companies</th>\n",
       "      <th>revenue</th>\n",
       "      <th>runtime</th>\n",
       "      <th>tagline</th>\n",
       "      <th>title</th>\n",
       "      <th>...</th>\n",
       "      <th>genre_Crime</th>\n",
       "      <th>genre_other</th>\n",
       "      <th>production_US</th>\n",
       "      <th>production_GB</th>\n",
       "      <th>production_FR</th>\n",
       "      <th>production_DE</th>\n",
       "      <th>production_IT</th>\n",
       "      <th>production_CA</th>\n",
       "      <th>production_JP</th>\n",
       "      <th>production_other</th>\n",
       "    </tr>\n",
       "  </thead>\n",
       "  <tbody>\n",
       "    <tr>\n",
       "      <th>0</th>\n",
       "      <td>{'id': 10194, 'name': 'Toy Story Collection', ...</td>\n",
       "      <td>30000000</td>\n",
       "      <td>862</td>\n",
       "      <td>en</td>\n",
       "      <td>[led, woody, andys, toy, live, happily, room, ...</td>\n",
       "      <td>52</td>\n",
       "      <td>373554033.0</td>\n",
       "      <td>81.0</td>\n",
       "      <td>[]</td>\n",
       "      <td>[toy, story]</td>\n",
       "      <td>...</td>\n",
       "      <td>0</td>\n",
       "      <td>1</td>\n",
       "      <td>1</td>\n",
       "      <td>0</td>\n",
       "      <td>0</td>\n",
       "      <td>0</td>\n",
       "      <td>0</td>\n",
       "      <td>0</td>\n",
       "      <td>0</td>\n",
       "      <td>0</td>\n",
       "    </tr>\n",
       "    <tr>\n",
       "      <th>1</th>\n",
       "      <td>NaN</td>\n",
       "      <td>65000000</td>\n",
       "      <td>8844</td>\n",
       "      <td>en</td>\n",
       "      <td>[sibling, judy, peter, discover, enchanted, bo...</td>\n",
       "      <td>196</td>\n",
       "      <td>262797249.0</td>\n",
       "      <td>104.0</td>\n",
       "      <td>[roll, dice, unleash, excitement]</td>\n",
       "      <td>[jumanji]</td>\n",
       "      <td>...</td>\n",
       "      <td>0</td>\n",
       "      <td>1</td>\n",
       "      <td>1</td>\n",
       "      <td>0</td>\n",
       "      <td>0</td>\n",
       "      <td>0</td>\n",
       "      <td>0</td>\n",
       "      <td>0</td>\n",
       "      <td>0</td>\n",
       "      <td>0</td>\n",
       "    </tr>\n",
       "    <tr>\n",
       "      <th>2</th>\n",
       "      <td>{'id': 119050, 'name': 'Grumpy Old Men Collect...</td>\n",
       "      <td>0</td>\n",
       "      <td>15602</td>\n",
       "      <td>en</td>\n",
       "      <td>[family, wedding, reignites, ancient, feud, ne...</td>\n",
       "      <td>1184</td>\n",
       "      <td>0.0</td>\n",
       "      <td>101.0</td>\n",
       "      <td>[still, yelling, still, fighting, still, ready...</td>\n",
       "      <td>[grumpier, old, men]</td>\n",
       "      <td>...</td>\n",
       "      <td>0</td>\n",
       "      <td>0</td>\n",
       "      <td>1</td>\n",
       "      <td>0</td>\n",
       "      <td>0</td>\n",
       "      <td>0</td>\n",
       "      <td>0</td>\n",
       "      <td>0</td>\n",
       "      <td>0</td>\n",
       "      <td>0</td>\n",
       "    </tr>\n",
       "    <tr>\n",
       "      <th>3</th>\n",
       "      <td>NaN</td>\n",
       "      <td>16000000</td>\n",
       "      <td>31357</td>\n",
       "      <td>en</td>\n",
       "      <td>[cheated, mistreated, stepped, woman, holding,...</td>\n",
       "      <td>812</td>\n",
       "      <td>81452156.0</td>\n",
       "      <td>127.0</td>\n",
       "      <td>[friend, people, let, never, let, forget]</td>\n",
       "      <td>[waiting, exhale]</td>\n",
       "      <td>...</td>\n",
       "      <td>0</td>\n",
       "      <td>0</td>\n",
       "      <td>1</td>\n",
       "      <td>0</td>\n",
       "      <td>0</td>\n",
       "      <td>0</td>\n",
       "      <td>0</td>\n",
       "      <td>0</td>\n",
       "      <td>0</td>\n",
       "      <td>0</td>\n",
       "    </tr>\n",
       "    <tr>\n",
       "      <th>4</th>\n",
       "      <td>{'id': 96871, 'name': 'Father of the Bride Col...</td>\n",
       "      <td>0</td>\n",
       "      <td>11862</td>\n",
       "      <td>en</td>\n",
       "      <td>[george, bank, recovered, daughter, wedding, r...</td>\n",
       "      <td>224</td>\n",
       "      <td>76578911.0</td>\n",
       "      <td>106.0</td>\n",
       "      <td>[world, back, normal, he, surprise, life]</td>\n",
       "      <td>[father, bride, part, ii]</td>\n",
       "      <td>...</td>\n",
       "      <td>0</td>\n",
       "      <td>0</td>\n",
       "      <td>1</td>\n",
       "      <td>0</td>\n",
       "      <td>0</td>\n",
       "      <td>0</td>\n",
       "      <td>0</td>\n",
       "      <td>0</td>\n",
       "      <td>0</td>\n",
       "      <td>0</td>\n",
       "    </tr>\n",
       "  </tbody>\n",
       "</table>\n",
       "<p>5 rows × 38 columns</p>\n",
       "</div>"
      ],
      "text/plain": [
       "                               belongs_to_collection    budget     id  \\\n",
       "0  {'id': 10194, 'name': 'Toy Story Collection', ...  30000000    862   \n",
       "1                                                NaN  65000000   8844   \n",
       "2  {'id': 119050, 'name': 'Grumpy Old Men Collect...         0  15602   \n",
       "3                                                NaN  16000000  31357   \n",
       "4  {'id': 96871, 'name': 'Father of the Bride Col...         0  11862   \n",
       "\n",
       "  original_language                                           overview  \\\n",
       "0                en  [led, woody, andys, toy, live, happily, room, ...   \n",
       "1                en  [sibling, judy, peter, discover, enchanted, bo...   \n",
       "2                en  [family, wedding, reignites, ancient, feud, ne...   \n",
       "3                en  [cheated, mistreated, stepped, woman, holding,...   \n",
       "4                en  [george, bank, recovered, daughter, wedding, r...   \n",
       "\n",
       "   production_companies      revenue  runtime  \\\n",
       "0                    52  373554033.0     81.0   \n",
       "1                   196  262797249.0    104.0   \n",
       "2                  1184          0.0    101.0   \n",
       "3                   812   81452156.0    127.0   \n",
       "4                   224   76578911.0    106.0   \n",
       "\n",
       "                                             tagline  \\\n",
       "0                                                 []   \n",
       "1                  [roll, dice, unleash, excitement]   \n",
       "2  [still, yelling, still, fighting, still, ready...   \n",
       "3          [friend, people, let, never, let, forget]   \n",
       "4          [world, back, normal, he, surprise, life]   \n",
       "\n",
       "                       title  ...  genre_Crime  genre_other  production_US  \\\n",
       "0               [toy, story]  ...            0            1              1   \n",
       "1                  [jumanji]  ...            0            1              1   \n",
       "2       [grumpier, old, men]  ...            0            0              1   \n",
       "3          [waiting, exhale]  ...            0            0              1   \n",
       "4  [father, bride, part, ii]  ...            0            0              1   \n",
       "\n",
       "  production_GB  production_FR  production_DE  production_IT  production_CA  \\\n",
       "0             0              0              0              0              0   \n",
       "1             0              0              0              0              0   \n",
       "2             0              0              0              0              0   \n",
       "3             0              0              0              0              0   \n",
       "4             0              0              0              0              0   \n",
       "\n",
       "   production_JP  production_other  \n",
       "0              0                 0  \n",
       "1              0                 0  \n",
       "2              0                 0  \n",
       "3              0                 0  \n",
       "4              0                 0  \n",
       "\n",
       "[5 rows x 38 columns]"
      ]
     },
     "execution_count": 26,
     "metadata": {},
     "output_type": "execute_result"
    }
   ],
   "source": [
    "popular_countries = popularity_countries(df['production_countries'])\n",
    "\n",
    "treat_countries(df, popular_countries)\n",
    "df.drop(['production_countries'], axis=1, inplace=True)\n",
    "df.head()"
   ]
  },
  {
   "cell_type": "markdown",
   "metadata": {},
   "source": [
    "### 1.3.13 Budget"
   ]
  },
  {
   "cell_type": "code",
   "execution_count": 27,
   "metadata": {},
   "outputs": [
    {
     "data": {
      "text/plain": [
       "0    30000000\n",
       "1    65000000\n",
       "2           0\n",
       "3    16000000\n",
       "4           0\n",
       "Name: budget, dtype: object"
      ]
     },
     "execution_count": 27,
     "metadata": {},
     "output_type": "execute_result"
    }
   ],
   "source": [
    "df[\"budget\"] = df.drop(df[df.budget.isna()].index, inplace=False)[\"budget\"]\n",
    "df[\"budget\"].head()"
   ]
  },
  {
   "cell_type": "markdown",
   "metadata": {},
   "source": [
    "### 1.3.14 Belongs to collection"
   ]
  },
  {
   "cell_type": "code",
   "execution_count": 28,
   "metadata": {},
   "outputs": [],
   "source": [
    "def preprocess_collection(coleccion):\n",
    "    id_coleccion = -1\n",
    "    if type(coleccion) != float:\n",
    "        id_coleccion = re.search(\"'id' *: *([0-9]+)\", coleccion)[1]\n",
    "    return id_coleccion"
   ]
  },
  {
   "cell_type": "code",
   "execution_count": 29,
   "metadata": {},
   "outputs": [
    {
     "data": {
      "text/plain": [
       "0         10194\n",
       "1            -1\n",
       "2        119050\n",
       "3            -1\n",
       "4         96871\n",
       "          ...  \n",
       "45459        -1\n",
       "45460        -1\n",
       "45461        -1\n",
       "45462        -1\n",
       "45463        -1\n",
       "Name: belongs_to_collection, Length: 41184, dtype: object"
      ]
     },
     "execution_count": 29,
     "metadata": {},
     "output_type": "execute_result"
    }
   ],
   "source": [
    "df[\"belongs_to_collection\"] = df[\"belongs_to_collection\"].apply(preprocess_collection)\n",
    "df[\"belongs_to_collection\"]"
   ]
  },
  {
   "cell_type": "markdown",
   "metadata": {
    "id": "FB4VCJs3r-nN"
   },
   "source": [
    "### 1.3.13 Revenue"
   ]
  },
  {
   "cell_type": "markdown",
   "metadata": {
    "id": "5nAumSyKu8og"
   },
   "source": [
    "Dado que para está característica se ha podido observar que faltan bastantes datos, esto nos servirá para crear dos datasets. Se tendrá un dataset con la columna de ``revenue`` con ningún valor nulo para el entrenamiento, y otro dataset sin esta columna que sería para el training."
   ]
  },
  {
   "cell_type": "code",
   "execution_count": 30,
   "metadata": {
    "id": "vDNfoY0y7ihU"
   },
   "outputs": [],
   "source": [
    "'''REVENUE'''\n",
    "\n",
    "revenue_valor = df[df[\"revenue\"] > 0]\n",
    "revenue_cero = df[df[\"revenue\"] == 0]"
   ]
  },
  {
   "cell_type": "code",
   "execution_count": 31,
   "metadata": {
    "id": "F2q5jP8s7ihU",
    "outputId": "6d859647-38f6-45ea-d5a4-306dbd1246db"
   },
   "outputs": [
    {
     "name": "stdout",
     "output_type": "stream",
     "text": [
      "7349\n",
      "33835\n"
     ]
    }
   ],
   "source": [
    "print(len(revenue_valor))\n",
    "print(len(revenue_cero))"
   ]
  },
  {
   "cell_type": "markdown",
   "metadata": {
    "id": "l8x65nifwBjG"
   },
   "source": [
    "## 1.5 Saving processed datasets"
   ]
  },
  {
   "cell_type": "markdown",
   "metadata": {},
   "source": [
    "Una vez prerporcesadas todas las columnas, será turno de crear otros datasets que serán utilizados en nuestro sistema de predicción. Se tendrá unos datasets sin ratings y otros con ratings, pero con menos samples."
   ]
  },
  {
   "cell_type": "code",
   "execution_count": 32,
   "metadata": {
    "id": "yMvBxkXW7ihV"
   },
   "outputs": [],
   "source": [
    "revenue_valor.to_csv(\"movies_dataset/preprocessed_training.csv\", index = False)"
   ]
  },
  {
   "cell_type": "code",
   "execution_count": 33,
   "metadata": {
    "id": "P4hUiJP_7ihV"
   },
   "outputs": [],
   "source": [
    "revenue_cero.to_csv(\"movies_dataset/preprocessed_testing.csv\", index = False)"
   ]
  },
  {
   "cell_type": "code",
   "execution_count": null,
   "metadata": {},
   "outputs": [],
   "source": []
  }
 ],
 "metadata": {
  "colab": {
   "name": "1_Preproceso.ipynb",
   "provenance": [],
   "toc_visible": true
  },
  "kernelspec": {
   "display_name": "Python 3",
   "language": "python",
   "name": "python3"
  },
  "language_info": {
   "codemirror_mode": {
    "name": "ipython",
    "version": 3
   },
   "file_extension": ".py",
   "mimetype": "text/x-python",
   "name": "python",
   "nbconvert_exporter": "python",
   "pygments_lexer": "ipython3",
   "version": "3.8.5"
  }
 },
 "nbformat": 4,
 "nbformat_minor": 1
}
