{
 "cells": [
  {
   "cell_type": "code",
   "execution_count": 24,
   "metadata": {},
   "outputs": [],
   "source": [
    "from sklearn.model_selection import train_test_split\n",
    "from sklearn.linear_model import LinearRegression\n",
    "from sklearn.metrics import mean_absolute_error\n",
    "import xgboost as xgb\n",
    "import pandas as pd\n",
    "import numpy as np\n",
    "\n",
    "with open(\"movies_dataset/transformed_training.csv\", \"r\") as f:\n",
    "    df = pd.read_csv(f)"
   ]
  },
  {
   "cell_type": "code",
   "execution_count": 30,
   "metadata": {},
   "outputs": [
    {
     "name": "stdout",
     "output_type": "stream",
     "text": [
      "original_language    0.103863\n",
      "runtime              0.303556\n",
      "vote_average         1.000000\n",
      "release_day          0.110699\n",
      "overview_story       0.105756\n",
      "Name: vote_average, dtype: float64\n",
      "Training error: 0.5962471749876243\n",
      "Testing error: 0.6628469139540276\n"
     ]
    }
   ],
   "source": [
    "##Prediccion de la media de votos\n",
    "\n",
    "df_votes = df.drop([\"vote_count\", \"revenue\"], axis=1)\n",
    "\n",
    "train, test = train_test_split(df_votes, test_size=0.2)\n",
    "\n",
    "#Obtencion de las columnas mas correlacionadas\n",
    "mtx_corr = train.corr()\n",
    "minimum_correlation = 0.1\n",
    "revenue_correlations = mtx_corr[\"vote_average\"][abs(mtx_corr[\"vote_average\"]) > minimum_correlation]\n",
    "\n",
    "print(revenue_correlations)\n",
    "\n",
    "selected_columns = list(revenue_correlations.index)\n",
    "selected_columns.remove(\"vote_average\")\n",
    "\n",
    "#Seleccion de features\n",
    "features_train = train[selected_columns]\n",
    "goal_train = train[[\"vote_average\"]]\n",
    "\n",
    "features_test = test[selected_columns]\n",
    "goal_test = test[[\"vote_average\"]]\n",
    "\n",
    "#Entrenamiento del modelo\n",
    "model_votes = xgb.XGBRegressor(n_estimators = 10000, learning_rate = 0.001, max_depth = 8, nthread = 3, random_state=0)\n",
    "model_votes.fit(features_train, goal_train)\n",
    "\n",
    "#Prueba del modelo sobre ambos conjuntos para ver el error\n",
    "predictions_train = model_votes.predict(features_train)\n",
    "predictions_test = model_votes.predict(features_test)\n",
    "\n",
    "MAE_train = mean_absolute_error(goal_train, predictions_train)\n",
    "MAE_test = mean_absolute_error(goal_test, predictions_test)\n",
    "\n",
    "print(\"Training error:\", MAE_train)\n",
    "print(\"Testing error:\", MAE_test)"
   ]
  },
  {
   "cell_type": "code",
   "execution_count": 33,
   "metadata": {},
   "outputs": [
    {
     "name": "stdout",
     "output_type": "stream",
     "text": [
      "belongs_to_collection    0.144861\n",
      "budget                   0.745956\n",
      "original_language       -0.111093\n",
      "production_companies     0.228964\n",
      "revenue                  1.000000\n",
      "runtime                  0.208765\n",
      "release_day              0.171048\n",
      "overview_world           0.080318\n",
      "overview_must            0.078707\n",
      "overview_film           -0.065429\n",
      "title_part               0.053355\n",
      "title_war                0.102880\n",
      "title_star               0.092752\n",
      "title_game               0.053893\n",
      "tagline_come             0.055972\n",
      "Name: revenue, dtype: float64\n",
      "Training error: 20594820.809299387\n",
      "Testing error: 43280861.67300436\n"
     ]
    }
   ],
   "source": [
    "## Prediccion de la recaudacion\n",
    "\n",
    "df_revenue = df.drop([\"vote_count\", \"vote_average\"], axis=1)\n",
    "\n",
    "train, test = train_test_split(df_revenue, test_size=0.2)\n",
    "\n",
    "#Obtencion de las columnas mas correlacionadas\n",
    "mtx_corr = train.corr()\n",
    "minimum_correlation = 0.05\n",
    "revenue_correlations = mtx_corr[\"revenue\"][abs(mtx_corr[\"revenue\"]) > minimum_correlation]\n",
    "\n",
    "print(revenue_correlations)\n",
    "\n",
    "selected_columns = list(revenue_correlations.index)\n",
    "selected_columns.remove(\"revenue\")\n",
    "\n",
    "#Seleccion de features\n",
    "features_train = train[selected_columns]\n",
    "goal_train = train[[\"revenue\"]]\n",
    "\n",
    "features_test = test[selected_columns]\n",
    "goal_test = test[[\"revenue\"]]\n",
    "\n",
    "#Entrenamiento del modelo\n",
    "model_revenue = xgb.XGBRegressor(n_estimators = 10000, learning_rate = 0.001, max_depth = 8, nthread = 3, random_state = 0)\n",
    "model_revenue.fit(features_train, goal_train)\n",
    "\n",
    "#Prueba del modelo sobre ambos conjuntos para ver el error\n",
    "predictions_train = model_revenue.predict(features_train)\n",
    "predictions_test = model_revenue.predict(features_test)\n",
    "\n",
    "MAE_train = mean_absolute_error(goal_train, predictions_train)\n",
    "MAE_test = mean_absolute_error(goal_test, predictions_test)\n",
    "\n",
    "print(\"Training error:\", MAE_train)\n",
    "print(\"Testing error:\", MAE_test)"
   ]
  },
  {
   "cell_type": "code",
   "execution_count": null,
   "metadata": {},
   "outputs": [],
   "source": []
  }
 ],
 "metadata": {
  "kernelspec": {
   "display_name": "Python 3",
   "language": "python",
   "name": "python3"
  },
  "language_info": {
   "codemirror_mode": {
    "name": "ipython",
    "version": 3
   },
   "file_extension": ".py",
   "mimetype": "text/x-python",
   "name": "python",
   "nbconvert_exporter": "python",
   "pygments_lexer": "ipython3",
   "version": "3.8.5"
  }
 },
 "nbformat": 4,
 "nbformat_minor": 4
}
